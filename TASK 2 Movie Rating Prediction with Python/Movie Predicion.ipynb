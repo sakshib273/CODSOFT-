{
 "cells": [
  {
   "cell_type": "code",
   "execution_count": 106,
   "id": "e211399f",
   "metadata": {},
   "outputs": [],
   "source": [
    "import numpy as np\n",
    "import pandas as pd\n",
    "import seaborn as sb\n",
    "import plotly.express as px\n",
    "import matplotlib.pyplot as plt\n",
    "from wordcloud import WordCloud\n",
    "from sklearn.model_selection import train_test_split\n",
    "from sklearn.metrics import r2_score, mean_squared_error, mean_absolute_error\n",
    "from xgboost import XGBRegressor\n",
    "from sklearn.linear_model import LinearRegression\n",
    "from sklearn.metrics import mean_squared_error, r2_score as score\n",
    "from sklearn.ensemble import RandomForestRegressor, GradientBoostingRegressor\n",
    "from sklearn.tree import DecisionTreeRegressor\n",
    "from lightgbm import LGBMRegressor\n",
    "from catboost import CatBoostRegressor\n",
    "from sklearn.neighbors import KNeighborsRegressor\n",
    "from sklearn.svm import SVR"
   ]
  },
  {
   "cell_type": "code",
   "execution_count": 133,
   "id": "3441bd5e",
   "metadata": {},
   "outputs": [],
   "source": [
    "movie_file = pd.read_csv(\"C:/Users/Hp/Desktop/CODSOFT/TASK 2 Movie Rating Prediction with Python/IMDb Movies India.csv\", encoding='latin1')"
   ]
  },
  {
   "cell_type": "code",
   "execution_count": 134,
   "id": "8cd7c235",
   "metadata": {},
   "outputs": [
    {
     "data": {
      "text/html": [
       "<div>\n",
       "<style scoped>\n",
       "    .dataframe tbody tr th:only-of-type {\n",
       "        vertical-align: middle;\n",
       "    }\n",
       "\n",
       "    .dataframe tbody tr th {\n",
       "        vertical-align: top;\n",
       "    }\n",
       "\n",
       "    .dataframe thead th {\n",
       "        text-align: right;\n",
       "    }\n",
       "</style>\n",
       "<table border=\"1\" class=\"dataframe\">\n",
       "  <thead>\n",
       "    <tr style=\"text-align: right;\">\n",
       "      <th></th>\n",
       "      <th>Name</th>\n",
       "      <th>Year</th>\n",
       "      <th>Duration</th>\n",
       "      <th>Genre</th>\n",
       "      <th>Rating</th>\n",
       "      <th>Votes</th>\n",
       "      <th>Director</th>\n",
       "      <th>Actor 1</th>\n",
       "      <th>Actor 2</th>\n",
       "      <th>Actor 3</th>\n",
       "    </tr>\n",
       "  </thead>\n",
       "  <tbody>\n",
       "    <tr>\n",
       "      <th>0</th>\n",
       "      <td></td>\n",
       "      <td>NaN</td>\n",
       "      <td>NaN</td>\n",
       "      <td>Drama</td>\n",
       "      <td>NaN</td>\n",
       "      <td>NaN</td>\n",
       "      <td>J.S. Randhawa</td>\n",
       "      <td>Manmauji</td>\n",
       "      <td>Birbal</td>\n",
       "      <td>Rajendra Bhatia</td>\n",
       "    </tr>\n",
       "    <tr>\n",
       "      <th>1</th>\n",
       "      <td>#Gadhvi (He thought he was Gandhi)</td>\n",
       "      <td>(2019)</td>\n",
       "      <td>109 min</td>\n",
       "      <td>Drama</td>\n",
       "      <td>7.0</td>\n",
       "      <td>8</td>\n",
       "      <td>Gaurav Bakshi</td>\n",
       "      <td>Rasika Dugal</td>\n",
       "      <td>Vivek Ghamande</td>\n",
       "      <td>Arvind Jangid</td>\n",
       "    </tr>\n",
       "    <tr>\n",
       "      <th>2</th>\n",
       "      <td>#Homecoming</td>\n",
       "      <td>(2021)</td>\n",
       "      <td>90 min</td>\n",
       "      <td>Drama, Musical</td>\n",
       "      <td>NaN</td>\n",
       "      <td>NaN</td>\n",
       "      <td>Soumyajit Majumdar</td>\n",
       "      <td>Sayani Gupta</td>\n",
       "      <td>Plabita Borthakur</td>\n",
       "      <td>Roy Angana</td>\n",
       "    </tr>\n",
       "    <tr>\n",
       "      <th>3</th>\n",
       "      <td>#Yaaram</td>\n",
       "      <td>(2019)</td>\n",
       "      <td>110 min</td>\n",
       "      <td>Comedy, Romance</td>\n",
       "      <td>4.4</td>\n",
       "      <td>35</td>\n",
       "      <td>Ovais Khan</td>\n",
       "      <td>Prateik</td>\n",
       "      <td>Ishita Raj</td>\n",
       "      <td>Siddhant Kapoor</td>\n",
       "    </tr>\n",
       "    <tr>\n",
       "      <th>4</th>\n",
       "      <td>...And Once Again</td>\n",
       "      <td>(2010)</td>\n",
       "      <td>105 min</td>\n",
       "      <td>Drama</td>\n",
       "      <td>NaN</td>\n",
       "      <td>NaN</td>\n",
       "      <td>Amol Palekar</td>\n",
       "      <td>Rajat Kapoor</td>\n",
       "      <td>Rituparna Sengupta</td>\n",
       "      <td>Antara Mali</td>\n",
       "    </tr>\n",
       "    <tr>\n",
       "      <th>...</th>\n",
       "      <td>...</td>\n",
       "      <td>...</td>\n",
       "      <td>...</td>\n",
       "      <td>...</td>\n",
       "      <td>...</td>\n",
       "      <td>...</td>\n",
       "      <td>...</td>\n",
       "      <td>...</td>\n",
       "      <td>...</td>\n",
       "      <td>...</td>\n",
       "    </tr>\n",
       "    <tr>\n",
       "      <th>15504</th>\n",
       "      <td>Zulm Ko Jala Doonga</td>\n",
       "      <td>(1988)</td>\n",
       "      <td>NaN</td>\n",
       "      <td>Action</td>\n",
       "      <td>4.6</td>\n",
       "      <td>11</td>\n",
       "      <td>Mahendra Shah</td>\n",
       "      <td>Naseeruddin Shah</td>\n",
       "      <td>Sumeet Saigal</td>\n",
       "      <td>Suparna Anand</td>\n",
       "    </tr>\n",
       "    <tr>\n",
       "      <th>15505</th>\n",
       "      <td>Zulmi</td>\n",
       "      <td>(1999)</td>\n",
       "      <td>129 min</td>\n",
       "      <td>Action, Drama</td>\n",
       "      <td>4.5</td>\n",
       "      <td>655</td>\n",
       "      <td>Kuku Kohli</td>\n",
       "      <td>Akshay Kumar</td>\n",
       "      <td>Twinkle Khanna</td>\n",
       "      <td>Aruna Irani</td>\n",
       "    </tr>\n",
       "    <tr>\n",
       "      <th>15506</th>\n",
       "      <td>Zulmi Raj</td>\n",
       "      <td>(2005)</td>\n",
       "      <td>NaN</td>\n",
       "      <td>Action</td>\n",
       "      <td>NaN</td>\n",
       "      <td>NaN</td>\n",
       "      <td>Kiran Thej</td>\n",
       "      <td>Sangeeta Tiwari</td>\n",
       "      <td>NaN</td>\n",
       "      <td>NaN</td>\n",
       "    </tr>\n",
       "    <tr>\n",
       "      <th>15507</th>\n",
       "      <td>Zulmi Shikari</td>\n",
       "      <td>(1988)</td>\n",
       "      <td>NaN</td>\n",
       "      <td>Action</td>\n",
       "      <td>NaN</td>\n",
       "      <td>NaN</td>\n",
       "      <td>NaN</td>\n",
       "      <td>NaN</td>\n",
       "      <td>NaN</td>\n",
       "      <td>NaN</td>\n",
       "    </tr>\n",
       "    <tr>\n",
       "      <th>15508</th>\n",
       "      <td>Zulm-O-Sitam</td>\n",
       "      <td>(1998)</td>\n",
       "      <td>130 min</td>\n",
       "      <td>Action, Drama</td>\n",
       "      <td>6.2</td>\n",
       "      <td>20</td>\n",
       "      <td>K.C. Bokadia</td>\n",
       "      <td>Dharmendra</td>\n",
       "      <td>Jaya Prada</td>\n",
       "      <td>Arjun Sarja</td>\n",
       "    </tr>\n",
       "  </tbody>\n",
       "</table>\n",
       "<p>15509 rows × 10 columns</p>\n",
       "</div>"
      ],
      "text/plain": [
       "                                     Name    Year Duration            Genre  \\\n",
       "0                                             NaN      NaN            Drama   \n",
       "1      #Gadhvi (He thought he was Gandhi)  (2019)  109 min            Drama   \n",
       "2                             #Homecoming  (2021)   90 min   Drama, Musical   \n",
       "3                                 #Yaaram  (2019)  110 min  Comedy, Romance   \n",
       "4                       ...And Once Again  (2010)  105 min            Drama   \n",
       "...                                   ...     ...      ...              ...   \n",
       "15504                 Zulm Ko Jala Doonga  (1988)      NaN           Action   \n",
       "15505                               Zulmi  (1999)  129 min    Action, Drama   \n",
       "15506                           Zulmi Raj  (2005)      NaN           Action   \n",
       "15507                       Zulmi Shikari  (1988)      NaN           Action   \n",
       "15508                        Zulm-O-Sitam  (1998)  130 min    Action, Drama   \n",
       "\n",
       "       Rating Votes            Director           Actor 1             Actor 2  \\\n",
       "0         NaN   NaN       J.S. Randhawa          Manmauji              Birbal   \n",
       "1         7.0     8       Gaurav Bakshi      Rasika Dugal      Vivek Ghamande   \n",
       "2         NaN   NaN  Soumyajit Majumdar      Sayani Gupta   Plabita Borthakur   \n",
       "3         4.4    35          Ovais Khan           Prateik          Ishita Raj   \n",
       "4         NaN   NaN        Amol Palekar      Rajat Kapoor  Rituparna Sengupta   \n",
       "...       ...   ...                 ...               ...                 ...   \n",
       "15504     4.6    11       Mahendra Shah  Naseeruddin Shah       Sumeet Saigal   \n",
       "15505     4.5   655          Kuku Kohli      Akshay Kumar      Twinkle Khanna   \n",
       "15506     NaN   NaN          Kiran Thej   Sangeeta Tiwari                 NaN   \n",
       "15507     NaN   NaN                 NaN               NaN                 NaN   \n",
       "15508     6.2    20        K.C. Bokadia        Dharmendra          Jaya Prada   \n",
       "\n",
       "               Actor 3  \n",
       "0      Rajendra Bhatia  \n",
       "1        Arvind Jangid  \n",
       "2           Roy Angana  \n",
       "3      Siddhant Kapoor  \n",
       "4          Antara Mali  \n",
       "...                ...  \n",
       "15504    Suparna Anand  \n",
       "15505      Aruna Irani  \n",
       "15506              NaN  \n",
       "15507              NaN  \n",
       "15508      Arjun Sarja  \n",
       "\n",
       "[15509 rows x 10 columns]"
      ]
     },
     "execution_count": 134,
     "metadata": {},
     "output_type": "execute_result"
    }
   ],
   "source": [
    "movie_file"
   ]
  },
  {
   "cell_type": "code",
   "execution_count": 135,
   "id": "8ac27330",
   "metadata": {},
   "outputs": [
    {
     "name": "stdout",
     "output_type": "stream",
     "text": [
      "<class 'pandas.core.frame.DataFrame'>\n",
      "RangeIndex: 15509 entries, 0 to 15508\n",
      "Data columns (total 10 columns):\n",
      " #   Column    Non-Null Count  Dtype  \n",
      "---  ------    --------------  -----  \n",
      " 0   Name      15509 non-null  object \n",
      " 1   Year      14981 non-null  object \n",
      " 2   Duration  7240 non-null   object \n",
      " 3   Genre     13632 non-null  object \n",
      " 4   Rating    7919 non-null   float64\n",
      " 5   Votes     7920 non-null   object \n",
      " 6   Director  14984 non-null  object \n",
      " 7   Actor 1   13892 non-null  object \n",
      " 8   Actor 2   13125 non-null  object \n",
      " 9   Actor 3   12365 non-null  object \n",
      "dtypes: float64(1), object(9)\n",
      "memory usage: 1.2+ MB\n"
     ]
    }
   ],
   "source": [
    "movie_file.info()"
   ]
  },
  {
   "cell_type": "code",
   "execution_count": 136,
   "id": "f32bcd17",
   "metadata": {},
   "outputs": [
    {
     "data": {
      "text/plain": [
       "Name         object\n",
       "Year         object\n",
       "Duration     object\n",
       "Genre        object\n",
       "Rating      float64\n",
       "Votes        object\n",
       "Director     object\n",
       "Actor 1      object\n",
       "Actor 2      object\n",
       "Actor 3      object\n",
       "dtype: object"
      ]
     },
     "execution_count": 136,
     "metadata": {},
     "output_type": "execute_result"
    }
   ],
   "source": [
    "movie_file.dtypes"
   ]
  },
  {
   "cell_type": "code",
   "execution_count": 137,
   "id": "a219a5d3",
   "metadata": {},
   "outputs": [
    {
     "data": {
      "text/plain": [
       "(15509, 10)"
      ]
     },
     "execution_count": 137,
     "metadata": {},
     "output_type": "execute_result"
    }
   ],
   "source": [
    "movie_file.shape"
   ]
  },
  {
   "cell_type": "code",
   "execution_count": 138,
   "id": "d0ee1ba4",
   "metadata": {},
   "outputs": [
    {
     "data": {
      "text/plain": [
       "Name           0\n",
       "Year         528\n",
       "Duration    8269\n",
       "Genre       1877\n",
       "Rating      7590\n",
       "Votes       7589\n",
       "Director     525\n",
       "Actor 1     1617\n",
       "Actor 2     2384\n",
       "Actor 3     3144\n",
       "dtype: int64"
      ]
     },
     "execution_count": 138,
     "metadata": {},
     "output_type": "execute_result"
    }
   ],
   "source": [
    "movie_file.isnull().sum()"
   ]
  },
  {
   "cell_type": "code",
   "execution_count": 139,
   "id": "af308841",
   "metadata": {},
   "outputs": [],
   "source": [
    "movie_file.dropna(inplace=True)"
   ]
  },
  {
   "cell_type": "code",
   "execution_count": 140,
   "id": "159d9c4c",
   "metadata": {},
   "outputs": [
    {
     "data": {
      "text/plain": [
       "Name        0\n",
       "Year        0\n",
       "Duration    0\n",
       "Genre       0\n",
       "Rating      0\n",
       "Votes       0\n",
       "Director    0\n",
       "Actor 1     0\n",
       "Actor 2     0\n",
       "Actor 3     0\n",
       "dtype: int64"
      ]
     },
     "execution_count": 140,
     "metadata": {},
     "output_type": "execute_result"
    }
   ],
   "source": [
    "movie_file.isnull().sum()"
   ]
  },
  {
   "cell_type": "code",
   "execution_count": 141,
   "id": "fd72fbcf",
   "metadata": {},
   "outputs": [
    {
     "data": {
      "text/plain": [
       "(5659, 10)"
      ]
     },
     "execution_count": 141,
     "metadata": {},
     "output_type": "execute_result"
    }
   ],
   "source": [
    "movie_file.shape"
   ]
  },
  {
   "cell_type": "code",
   "execution_count": 142,
   "id": "b3289f0c",
   "metadata": {},
   "outputs": [],
   "source": [
    "movie_file['Duration'] = movie_file['Duration'].str.extract('(\\d+)')\n",
    "movie_file['Duration'] = pd.to_numeric(movie_file['Duration'], errors='coerce')"
   ]
  },
  {
   "cell_type": "code",
   "execution_count": 143,
   "id": "cd198c3f",
   "metadata": {},
   "outputs": [
    {
     "data": {
      "text/plain": [
       "1    (2019)\n",
       "3    (2019)\n",
       "5    (1997)\n",
       "6    (2005)\n",
       "8    (2012)\n",
       "Name: Year, dtype: object"
      ]
     },
     "execution_count": 143,
     "metadata": {},
     "output_type": "execute_result"
    }
   ],
   "source": [
    "movie_file[\"Year\"].head()"
   ]
  },
  {
   "cell_type": "code",
   "execution_count": 144,
   "id": "4809e7df",
   "metadata": {},
   "outputs": [],
   "source": [
    "genre = movie_file['Genre']"
   ]
  },
  {
   "cell_type": "code",
   "execution_count": 145,
   "id": "310c3b13",
   "metadata": {},
   "outputs": [
    {
     "data": {
      "text/plain": [
       "1                         Drama\n",
       "3               Comedy, Romance\n",
       "5        Comedy, Drama, Musical\n",
       "6           Drama, Romance, War\n",
       "8     Horror, Mystery, Thriller\n",
       "9       Action, Crime, Thriller\n",
       "10                        Drama\n",
       "11                       Horror\n",
       "12    Horror, Romance, Thriller\n",
       "13       Comedy, Drama, Romance\n",
       "15                Comedy, Drama\n",
       "Name: Genre, dtype: object"
      ]
     },
     "execution_count": 145,
     "metadata": {},
     "output_type": "execute_result"
    }
   ],
   "source": [
    "genre.head(11)"
   ]
  },
  {
   "cell_type": "code",
   "execution_count": 146,
   "id": "7b967e1d",
   "metadata": {},
   "outputs": [],
   "source": [
    "genres = movie_file['Genre'].str.split(', ', expand=True)"
   ]
  },
  {
   "cell_type": "code",
   "execution_count": 147,
   "id": "27e3b6a6",
   "metadata": {},
   "outputs": [
    {
     "data": {
      "text/html": [
       "<div>\n",
       "<style scoped>\n",
       "    .dataframe tbody tr th:only-of-type {\n",
       "        vertical-align: middle;\n",
       "    }\n",
       "\n",
       "    .dataframe tbody tr th {\n",
       "        vertical-align: top;\n",
       "    }\n",
       "\n",
       "    .dataframe thead th {\n",
       "        text-align: right;\n",
       "    }\n",
       "</style>\n",
       "<table border=\"1\" class=\"dataframe\">\n",
       "  <thead>\n",
       "    <tr style=\"text-align: right;\">\n",
       "      <th></th>\n",
       "      <th>0</th>\n",
       "      <th>1</th>\n",
       "      <th>2</th>\n",
       "    </tr>\n",
       "  </thead>\n",
       "  <tbody>\n",
       "    <tr>\n",
       "      <th>1</th>\n",
       "      <td>Drama</td>\n",
       "      <td>None</td>\n",
       "      <td>None</td>\n",
       "    </tr>\n",
       "    <tr>\n",
       "      <th>3</th>\n",
       "      <td>Comedy</td>\n",
       "      <td>Romance</td>\n",
       "      <td>None</td>\n",
       "    </tr>\n",
       "    <tr>\n",
       "      <th>5</th>\n",
       "      <td>Comedy</td>\n",
       "      <td>Drama</td>\n",
       "      <td>Musical</td>\n",
       "    </tr>\n",
       "    <tr>\n",
       "      <th>6</th>\n",
       "      <td>Drama</td>\n",
       "      <td>Romance</td>\n",
       "      <td>War</td>\n",
       "    </tr>\n",
       "    <tr>\n",
       "      <th>8</th>\n",
       "      <td>Horror</td>\n",
       "      <td>Mystery</td>\n",
       "      <td>Thriller</td>\n",
       "    </tr>\n",
       "  </tbody>\n",
       "</table>\n",
       "</div>"
      ],
      "text/plain": [
       "        0        1         2\n",
       "1   Drama     None      None\n",
       "3  Comedy  Romance      None\n",
       "5  Comedy    Drama   Musical\n",
       "6   Drama  Romance       War\n",
       "8  Horror  Mystery  Thriller"
      ]
     },
     "execution_count": 147,
     "metadata": {},
     "output_type": "execute_result"
    }
   ],
   "source": [
    "genres.head()"
   ]
  },
  {
   "cell_type": "code",
   "execution_count": 148,
   "id": "b8f41915",
   "metadata": {},
   "outputs": [
    {
     "name": "stdout",
     "output_type": "stream",
     "text": [
      "Action: 1686\n",
      "Adventure: 277\n",
      "Animation: 40\n",
      "Biography: 115\n",
      "Comedy: 1344\n",
      "Crime: 875\n",
      "Documentary: 48\n",
      "Drama: 3796\n",
      "Family: 416\n",
      "Fantasy: 146\n",
      "History: 99\n",
      "Horror: 202\n",
      "Music: 53\n",
      "Musical: 412\n",
      "Mystery: 304\n",
      "News: 1\n",
      "Romance: 1380\n",
      "Sci-Fi: 32\n",
      "Sport: 40\n",
      "Thriller: 679\n",
      "War: 33\n",
      "Western: 1\n"
     ]
    }
   ],
   "source": [
    "genre_counts = {}\n",
    "for genre in genres.values.flatten():\n",
    "    if genre is not None:\n",
    "        if genre in genre_counts:\n",
    "            genre_counts[genre] += 1\n",
    "        else:\n",
    "            genre_counts[genre] = 1\n",
    "\n",
    "genereCounts = {genre: count for genre, count in sorted(genre_counts.items())}\n",
    "for genre, count in genereCounts.items():\n",
    "    print(f\"{genre}: {count}\")"
   ]
  },
  {
   "cell_type": "code",
   "execution_count": 149,
   "id": "866ff319",
   "metadata": {},
   "outputs": [],
   "source": [
    "genresPie = movie_file['Genre'].value_counts()"
   ]
  },
  {
   "cell_type": "code",
   "execution_count": 150,
   "id": "043a2813",
   "metadata": {},
   "outputs": [
    {
     "data": {
      "text/plain": [
       "Genre\n",
       "Drama                     844\n",
       "Drama, Romance            332\n",
       "Action, Crime, Drama      329\n",
       "Action, Drama             206\n",
       "Comedy, Drama             205\n",
       "Comedy, Drama, Romance    188\n",
       "Comedy                    187\n",
       "Action                    170\n",
       "Drama, Family             160\n",
       "Romance                   126\n",
       "Action, Comedy, Drama     118\n",
       "Name: count, dtype: int64"
      ]
     },
     "execution_count": 150,
     "metadata": {},
     "output_type": "execute_result"
    }
   ],
   "source": [
    "genresPie.head(11)"
   ]
  },
  {
   "cell_type": "code",
   "execution_count": 151,
   "id": "8f3f44a3",
   "metadata": {},
   "outputs": [],
   "source": [
    "genrePie = pd.DataFrame(list(genresPie.items()))\n",
    "genrePie = genrePie.rename(columns={0: 'Genre', 1: 'Count'})"
   ]
  },
  {
   "cell_type": "code",
   "execution_count": 152,
   "id": "ec0f5f36",
   "metadata": {},
   "outputs": [
    {
     "data": {
      "text/html": [
       "<div>\n",
       "<style scoped>\n",
       "    .dataframe tbody tr th:only-of-type {\n",
       "        vertical-align: middle;\n",
       "    }\n",
       "\n",
       "    .dataframe tbody tr th {\n",
       "        vertical-align: top;\n",
       "    }\n",
       "\n",
       "    .dataframe thead th {\n",
       "        text-align: right;\n",
       "    }\n",
       "</style>\n",
       "<table border=\"1\" class=\"dataframe\">\n",
       "  <thead>\n",
       "    <tr style=\"text-align: right;\">\n",
       "      <th></th>\n",
       "      <th>Genre</th>\n",
       "      <th>Count</th>\n",
       "    </tr>\n",
       "  </thead>\n",
       "  <tbody>\n",
       "    <tr>\n",
       "      <th>0</th>\n",
       "      <td>Drama</td>\n",
       "      <td>844</td>\n",
       "    </tr>\n",
       "    <tr>\n",
       "      <th>1</th>\n",
       "      <td>Drama, Romance</td>\n",
       "      <td>332</td>\n",
       "    </tr>\n",
       "    <tr>\n",
       "      <th>2</th>\n",
       "      <td>Action, Crime, Drama</td>\n",
       "      <td>329</td>\n",
       "    </tr>\n",
       "    <tr>\n",
       "      <th>3</th>\n",
       "      <td>Action, Drama</td>\n",
       "      <td>206</td>\n",
       "    </tr>\n",
       "    <tr>\n",
       "      <th>4</th>\n",
       "      <td>Comedy, Drama</td>\n",
       "      <td>205</td>\n",
       "    </tr>\n",
       "  </tbody>\n",
       "</table>\n",
       "</div>"
      ],
      "text/plain": [
       "                  Genre  Count\n",
       "0                 Drama    844\n",
       "1        Drama, Romance    332\n",
       "2  Action, Crime, Drama    329\n",
       "3         Action, Drama    206\n",
       "4         Comedy, Drama    205"
      ]
     },
     "execution_count": 152,
     "metadata": {},
     "output_type": "execute_result"
    }
   ],
   "source": [
    "genrePie.head()"
   ]
  },
  {
   "cell_type": "code",
   "execution_count": 153,
   "id": "4ec92dd4",
   "metadata": {},
   "outputs": [],
   "source": [
    "movie_file['Votes'] = movie_file['Votes'].str.replace(',', '').astype(int)"
   ]
  },
  {
   "cell_type": "code",
   "execution_count": 154,
   "id": "ba72a27e",
   "metadata": {},
   "outputs": [
    {
     "data": {
      "text/plain": [
       "1       8\n",
       "3      35\n",
       "5     827\n",
       "6    1086\n",
       "8     326\n",
       "Name: Votes, dtype: int32"
      ]
     },
     "execution_count": 154,
     "metadata": {},
     "output_type": "execute_result"
    }
   ],
   "source": [
    "movie_file['Votes'].head()"
   ]
  },
  {
   "cell_type": "code",
   "execution_count": 155,
   "id": "c6a42621",
   "metadata": {},
   "outputs": [
    {
     "data": {
      "text/plain": [
       "2431"
      ]
     },
     "execution_count": 155,
     "metadata": {},
     "output_type": "execute_result"
    }
   ],
   "source": [
    "movie_file[\"Director\"].nunique()"
   ]
  },
  {
   "cell_type": "code",
   "execution_count": 156,
   "id": "b8443020",
   "metadata": {},
   "outputs": [],
   "source": [
    "directors = movie_file[\"Director\"].value_counts()"
   ]
  },
  {
   "cell_type": "code",
   "execution_count": 157,
   "id": "cdd737a0",
   "metadata": {},
   "outputs": [
    {
     "data": {
      "text/plain": [
       "Director\n",
       "David Dhawan            41\n",
       "Mahesh Bhatt            39\n",
       "Ram Gopal Varma         33\n",
       "Hrishikesh Mukherjee    33\n",
       "Shakti Samanta          33\n",
       "Vikram Bhatt            30\n",
       "Priyadarshan            29\n",
       "Basu Chatterjee         23\n",
       "Rama Rao Tatineni       23\n",
       "Shyam Benegal           22\n",
       "Yash Chopra             22\n",
       "Name: count, dtype: int64"
      ]
     },
     "execution_count": 157,
     "metadata": {},
     "output_type": "execute_result"
    }
   ],
   "source": [
    "directors.head(11)"
   ]
  },
  {
   "cell_type": "code",
   "execution_count": 158,
   "id": "177a3a6d",
   "metadata": {},
   "outputs": [],
   "source": [
    "actors = pd.concat([movie_file['Actor 1'], movie_file['Actor 2'], movie_file['Actor 3']]).dropna().value_counts()"
   ]
  },
  {
   "cell_type": "code",
   "execution_count": 159,
   "id": "b6146c83",
   "metadata": {},
   "outputs": [
    {
     "data": {
      "text/plain": [
       "Mithun Chakraborty    160\n",
       "Amitabh Bachchan      148\n",
       "Dharmendra            146\n",
       "Ashok Kumar           124\n",
       "Akshay Kumar          120\n",
       "Name: count, dtype: int64"
      ]
     },
     "execution_count": 159,
     "metadata": {},
     "output_type": "execute_result"
    }
   ],
   "source": [
    "actors.head()"
   ]
  },
  {
   "cell_type": "code",
   "execution_count": 160,
   "id": "92d3d14f",
   "metadata": {},
   "outputs": [],
   "source": [
    "movie_file['Year'] = movie_file['Year'].astype(str).str.extract(r'(\\d{4})')[0].astype(int)"
   ]
  },
  {
   "cell_type": "code",
   "execution_count": 161,
   "id": "bf78a78a",
   "metadata": {},
   "outputs": [],
   "source": [
    "sb.set(style = \"darkgrid\", font = \"Calibri\")"
   ]
  },
  {
   "cell_type": "code",
   "execution_count": 162,
   "id": "582c888d",
   "metadata": {},
   "outputs": [
    {
     "data": {
      "image/png": "[encoded data removed]",
      "text/plain": [
       "<Figure size 640x480 with 1 Axes>"
      ]
     },
     "metadata": {},
     "output_type": "display_data"
    }
   ],
   "source": [
    "ax = sb.lineplot(x=movie_file['Year'].value_counts().sort_index().index, \n",
    "                 y=movie_file['Year'].value_counts().sort_index().values)\n",
    "\n",
    "ax.set_title(\"Annual Movie Release Counts Over Time\")\n",
    "ax.set_xlabel(\"Years\")\n",
    "ax.set_ylabel(\"Count\")\n",
    "\n",
    "darkgrid_positions = range(min(movie_file['Year']), max(movie_file['Year']) + 1, 5)\n",
    "ax.set_xticks(darkgrid_positions)\n",
    "ax.set_xticklabels(darkgrid_positions, rotation=90)\n",
    "\n",
    "plt.show()"
   ]
  },
  {
   "cell_type": "code",
   "execution_count": 163,
   "id": "e09234d6",
   "metadata": {},
   "outputs": [
    {
     "data": {
      "image/png": "[encoded data removed]",
      "text/plain": [
       "<Figure size 640x480 with 1 Axes>"
      ]
     },
     "metadata": {},
     "output_type": "display_data"
    }
   ],
   "source": [
    "ax = sb.boxplot(data=movie_file, y='Year')\n",
    "ax.set_ylabel('Year')\n",
    "ax.set_title('Box Plot of Year')\n",
    "plt.show()"
   ]
  },
  {
   "cell_type": "code",
   "execution_count": 164,
   "id": "eccbc23e",
   "metadata": {},
   "outputs": [
    {
     "data": {
      "text/plain": [
       "[Text(1931, 0, '1931'),\n",
       " Text(1936, 0, '1936'),\n",
       " Text(1941, 0, '1941'),\n",
       " Text(1946, 0, '1946'),\n",
       " Text(1951, 0, '1951'),\n",
       " Text(1956, 0, '1956'),\n",
       " Text(1961, 0, '1961'),\n",
       " Text(1966, 0, '1966'),\n",
       " Text(1971, 0, '1971'),\n",
       " Text(1976, 0, '1976'),\n",
       " Text(1981, 0, '1981'),\n",
       " Text(1986, 0, '1986'),\n",
       " Text(1991, 0, '1991'),\n",
       " Text(1996, 0, '1996'),\n",
       " Text(2001, 0, '2001'),\n",
       " Text(2006, 0, '2006'),\n",
       " Text(2011, 0, '2011'),\n",
       " Text(2016, 0, '2016'),\n",
       " Text(2021, 0, '2021')]"
      ]
     },
     "execution_count": 164,
     "metadata": {},
     "output_type": "execute_result"
    },
    {
     "data": {
      "image/png": "[encoded data removed]",
      "text/plain": [
       "<Figure size 640x480 with 1 Axes>"
      ]
     },
     "metadata": {},
     "output_type": "display_data"
    }
   ],
   "source": [
    "ax = sb.lineplot(data=movie_file.groupby('Year')['Duration'].mean().reset_index(), \n",
    "                 x='Year', y='Duration')\n",
    "\n",
    "ax.set_title(\"Average Movie Duration Trends Over the Years\")\n",
    "ax.set_xlabel(\"Years\")\n",
    "ax.set_ylabel(\"Average Duration (in minutes)\")\n",
    "\n",
    "darkgrid_positions = range(int(movie_file['Year'].min()), int(movie_file['Year'].max()) + 1, 5)\n",
    "ax.set_xticks(darkgrid_positions)\n",
    "ax.set_xticklabels(darkgrid_positions, rotation=90)"
   ]
  },
  {
   "cell_type": "code",
   "execution_count": 165,
   "id": "04cdabe1",
   "metadata": {},
   "outputs": [
    {
     "data": {
      "image/png": "[encoded data removed]",
      "text/plain": [
       "<Figure size 640x480 with 1 Axes>"
      ]
     },
     "metadata": {},
     "output_type": "display_data"
    }
   ],
   "source": [
    "ax = sb.boxplot(data=movie_file, y='Duration')\n",
    "ax.set_title(\"Box Plot of Average Movie Durations\")\n",
    "ax.set_ylabel('Average Duration(in minutes)')\n",
    "plt.show()"
   ]
  },
  {
   "cell_type": "code",
   "execution_count": 166,
   "id": "b2900f55",
   "metadata": {},
   "outputs": [
    {
     "data": {
      "text/html": [
       "<div>\n",
       "<style scoped>\n",
       "    .dataframe tbody tr th:only-of-type {\n",
       "        vertical-align: middle;\n",
       "    }\n",
       "\n",
       "    .dataframe tbody tr th {\n",
       "        vertical-align: top;\n",
       "    }\n",
       "\n",
       "    .dataframe thead th {\n",
       "        text-align: right;\n",
       "    }\n",
       "</style>\n",
       "<table border=\"1\" class=\"dataframe\">\n",
       "  <thead>\n",
       "    <tr style=\"text-align: right;\">\n",
       "      <th></th>\n",
       "      <th>Name</th>\n",
       "      <th>Year</th>\n",
       "      <th>Duration</th>\n",
       "      <th>Genre</th>\n",
       "      <th>Rating</th>\n",
       "      <th>Votes</th>\n",
       "      <th>Director</th>\n",
       "      <th>Actor 1</th>\n",
       "      <th>Actor 2</th>\n",
       "      <th>Actor 3</th>\n",
       "    </tr>\n",
       "  </thead>\n",
       "  <tbody>\n",
       "    <tr>\n",
       "      <th>1</th>\n",
       "      <td>#Gadhvi (He thought he was Gandhi)</td>\n",
       "      <td>2019</td>\n",
       "      <td>109</td>\n",
       "      <td>Drama</td>\n",
       "      <td>7.0</td>\n",
       "      <td>8</td>\n",
       "      <td>Gaurav Bakshi</td>\n",
       "      <td>Rasika Dugal</td>\n",
       "      <td>Vivek Ghamande</td>\n",
       "      <td>Arvind Jangid</td>\n",
       "    </tr>\n",
       "    <tr>\n",
       "      <th>3</th>\n",
       "      <td>#Yaaram</td>\n",
       "      <td>2019</td>\n",
       "      <td>110</td>\n",
       "      <td>Comedy, Romance</td>\n",
       "      <td>4.4</td>\n",
       "      <td>35</td>\n",
       "      <td>Ovais Khan</td>\n",
       "      <td>Prateik</td>\n",
       "      <td>Ishita Raj</td>\n",
       "      <td>Siddhant Kapoor</td>\n",
       "    </tr>\n",
       "    <tr>\n",
       "      <th>5</th>\n",
       "      <td>...Aur Pyaar Ho Gaya</td>\n",
       "      <td>1997</td>\n",
       "      <td>147</td>\n",
       "      <td>Comedy, Drama, Musical</td>\n",
       "      <td>4.7</td>\n",
       "      <td>827</td>\n",
       "      <td>Rahul Rawail</td>\n",
       "      <td>Bobby Deol</td>\n",
       "      <td>Aishwarya Rai Bachchan</td>\n",
       "      <td>Shammi Kapoor</td>\n",
       "    </tr>\n",
       "    <tr>\n",
       "      <th>6</th>\n",
       "      <td>...Yahaan</td>\n",
       "      <td>2005</td>\n",
       "      <td>142</td>\n",
       "      <td>Drama, Romance, War</td>\n",
       "      <td>7.4</td>\n",
       "      <td>1086</td>\n",
       "      <td>Shoojit Sircar</td>\n",
       "      <td>Jimmy Sheirgill</td>\n",
       "      <td>Minissha Lamba</td>\n",
       "      <td>Yashpal Sharma</td>\n",
       "    </tr>\n",
       "    <tr>\n",
       "      <th>8</th>\n",
       "      <td>?: A Question Mark</td>\n",
       "      <td>2012</td>\n",
       "      <td>82</td>\n",
       "      <td>Horror, Mystery, Thriller</td>\n",
       "      <td>5.6</td>\n",
       "      <td>326</td>\n",
       "      <td>Allyson Patel</td>\n",
       "      <td>Yash Dave</td>\n",
       "      <td>Muntazir Ahmad</td>\n",
       "      <td>Kiran Bhatia</td>\n",
       "    </tr>\n",
       "    <tr>\n",
       "      <th>9</th>\n",
       "      <td>@Andheri</td>\n",
       "      <td>2014</td>\n",
       "      <td>116</td>\n",
       "      <td>Action, Crime, Thriller</td>\n",
       "      <td>4.0</td>\n",
       "      <td>11</td>\n",
       "      <td>Biju Bhaskar Nair</td>\n",
       "      <td>Augustine</td>\n",
       "      <td>Fathima Babu</td>\n",
       "      <td>Byon</td>\n",
       "    </tr>\n",
       "    <tr>\n",
       "      <th>10</th>\n",
       "      <td>1:1.6 An Ode to Lost Love</td>\n",
       "      <td>2004</td>\n",
       "      <td>96</td>\n",
       "      <td>Drama</td>\n",
       "      <td>6.2</td>\n",
       "      <td>17</td>\n",
       "      <td>Madhu Ambat</td>\n",
       "      <td>Rati Agnihotri</td>\n",
       "      <td>Gulshan Grover</td>\n",
       "      <td>Atul Kulkarni</td>\n",
       "    </tr>\n",
       "    <tr>\n",
       "      <th>11</th>\n",
       "      <td>1:13:7 Ek Tera Saath</td>\n",
       "      <td>2016</td>\n",
       "      <td>120</td>\n",
       "      <td>Horror</td>\n",
       "      <td>5.9</td>\n",
       "      <td>59</td>\n",
       "      <td>Arshad Siddiqui</td>\n",
       "      <td>Pankaj Berry</td>\n",
       "      <td>Anubhav Dhir</td>\n",
       "      <td>Hritu Dudani</td>\n",
       "    </tr>\n",
       "    <tr>\n",
       "      <th>12</th>\n",
       "      <td>100 Days</td>\n",
       "      <td>1991</td>\n",
       "      <td>161</td>\n",
       "      <td>Horror, Romance, Thriller</td>\n",
       "      <td>6.5</td>\n",
       "      <td>983</td>\n",
       "      <td>Partho Ghosh</td>\n",
       "      <td>Jackie Shroff</td>\n",
       "      <td>Madhuri Dixit</td>\n",
       "      <td>Javed Jaffrey</td>\n",
       "    </tr>\n",
       "    <tr>\n",
       "      <th>13</th>\n",
       "      <td>100% Love</td>\n",
       "      <td>2012</td>\n",
       "      <td>166</td>\n",
       "      <td>Comedy, Drama, Romance</td>\n",
       "      <td>5.7</td>\n",
       "      <td>512</td>\n",
       "      <td>Rabi Kinagi</td>\n",
       "      <td>Jeet</td>\n",
       "      <td>Koyel Mallick</td>\n",
       "      <td>Sujoy Ghosh</td>\n",
       "    </tr>\n",
       "    <tr>\n",
       "      <th>15</th>\n",
       "      <td>102 Not Out</td>\n",
       "      <td>2018</td>\n",
       "      <td>102</td>\n",
       "      <td>Comedy, Drama</td>\n",
       "      <td>7.4</td>\n",
       "      <td>6619</td>\n",
       "      <td>Umesh Shukla</td>\n",
       "      <td>Amitabh Bachchan</td>\n",
       "      <td>Rishi Kapoor</td>\n",
       "      <td>Vijay Raaz</td>\n",
       "    </tr>\n",
       "  </tbody>\n",
       "</table>\n",
       "</div>"
      ],
      "text/plain": [
       "                                  Name  Year  Duration  \\\n",
       "1   #Gadhvi (He thought he was Gandhi)  2019       109   \n",
       "3                              #Yaaram  2019       110   \n",
       "5                 ...Aur Pyaar Ho Gaya  1997       147   \n",
       "6                            ...Yahaan  2005       142   \n",
       "8                   ?: A Question Mark  2012        82   \n",
       "9                             @Andheri  2014       116   \n",
       "10           1:1.6 An Ode to Lost Love  2004        96   \n",
       "11                1:13:7 Ek Tera Saath  2016       120   \n",
       "12                            100 Days  1991       161   \n",
       "13                           100% Love  2012       166   \n",
       "15                         102 Not Out  2018       102   \n",
       "\n",
       "                        Genre  Rating  Votes           Director  \\\n",
       "1                       Drama     7.0      8      Gaurav Bakshi   \n",
       "3             Comedy, Romance     4.4     35         Ovais Khan   \n",
       "5      Comedy, Drama, Musical     4.7    827       Rahul Rawail   \n",
       "6         Drama, Romance, War     7.4   1086     Shoojit Sircar   \n",
       "8   Horror, Mystery, Thriller     5.6    326      Allyson Patel   \n",
       "9     Action, Crime, Thriller     4.0     11  Biju Bhaskar Nair   \n",
       "10                      Drama     6.2     17        Madhu Ambat   \n",
       "11                     Horror     5.9     59    Arshad Siddiqui   \n",
       "12  Horror, Romance, Thriller     6.5    983       Partho Ghosh   \n",
       "13     Comedy, Drama, Romance     5.7    512        Rabi Kinagi   \n",
       "15              Comedy, Drama     7.4   6619       Umesh Shukla   \n",
       "\n",
       "             Actor 1                 Actor 2          Actor 3  \n",
       "1       Rasika Dugal          Vivek Ghamande    Arvind Jangid  \n",
       "3            Prateik              Ishita Raj  Siddhant Kapoor  \n",
       "5         Bobby Deol  Aishwarya Rai Bachchan    Shammi Kapoor  \n",
       "6    Jimmy Sheirgill          Minissha Lamba   Yashpal Sharma  \n",
       "8          Yash Dave          Muntazir Ahmad     Kiran Bhatia  \n",
       "9          Augustine            Fathima Babu             Byon  \n",
       "10    Rati Agnihotri          Gulshan Grover    Atul Kulkarni  \n",
       "11      Pankaj Berry            Anubhav Dhir     Hritu Dudani  \n",
       "12     Jackie Shroff           Madhuri Dixit    Javed Jaffrey  \n",
       "13              Jeet           Koyel Mallick      Sujoy Ghosh  \n",
       "15  Amitabh Bachchan            Rishi Kapoor       Vijay Raaz  "
      ]
     },
     "execution_count": 166,
     "metadata": {},
     "output_type": "execute_result"
    }
   ],
   "source": [
    "Q1 = movie_file['Duration'].quantile(0.25)\n",
    "Q3 = movie_file['Duration'].quantile(0.75)\n",
    "IQR = Q3 - Q1\n",
    "lower_bound = Q1 - 1.5 * IQR\n",
    "upper_bound = Q3 + 1.5 * IQR\n",
    "df = movie_file[(movie_file['Duration'] >= lower_bound) & (movie_file['Duration'] <= upper_bound)]\n",
    "df.head(11)"
   ]
  },
  {
   "cell_type": "code",
   "execution_count": 167,
   "id": "86896461",
   "metadata": {},
   "outputs": [
    {
     "data": {
      "image/png": "[encoded data removed]",
      "text/plain": [
       "<Figure size 1600x600 with 1 Axes>"
      ]
     },
     "metadata": {},
     "output_type": "display_data"
    }
   ],
   "source": [
    "genre_counts = movie_file['Genre'].str.split(', ', expand=True).stack().value_counts()\n",
    "\n",
    "wordcloud = WordCloud(width=950, height=550, background_color='white').generate_from_frequencies(genre_counts)\n",
    "\n",
    "plt.figure(figsize=(16, 6))\n",
    "plt.imshow(wordcloud, interpolation='bilinear')\n",
    "plt.axis('on')\n",
    "plt.title('Genre Word Cloud')\n",
    "plt.show()"
   ]
  },
  {
   "cell_type": "code",
   "execution_count": 168,
   "id": "97f1be0e",
   "metadata": {},
   "outputs": [
    {
     "data": {
      "image/png": "[encoded data removed]",
      "text/plain": [
       "<Figure size 640x480 with 1 Axes>"
      ]
     },
     "metadata": {},
     "output_type": "display_data"
    }
   ],
   "source": [
    "genreLabels = sorted(genereCounts.keys())\n",
    "genreCounts = sorted(genereCounts.values())\n",
    "ax = sb.barplot(x=genreLabels, y=genreCounts)\n",
    "ax.set_xticklabels(genreLabels, rotation=90)\n",
    "plt.show()"
   ]
  },
  {
   "cell_type": "code",
   "execution_count": 169,
   "id": "b930cbae",
   "metadata": {},
   "outputs": [
    {
     "data": {
      "application/vnd.plotly.v1+json": {
       "config": {
        "plotlyServerURL": "https://plot.ly"
       },
       "data": [
        {
         "domain": {
          "x": [
           0,
           1
          ],
          "y": [
           0,
           1
          ]
         },
         "hovertemplate": "Genre=%{label}<br>Count=%{value}<extra></extra>",
         "labels": [
          "Drama",
          "Drama, Romance",
          "Action, Crime, Drama",
          "Action, Drama",
          "Comedy, Drama",
          "Comedy, Drama, Romance",
          "Comedy",
          "Action",
          "Drama, Family",
          "Romance",
          "Action, Comedy, Drama",
          "Comedy, Romance",
          "Action, Drama, Romance",
          "Drama, Musical, Romance",
          "Thriller",
          "Action, Comedy, Crime",
          "Horror",
          "Action, Thriller",
          "Comedy, Crime, Drama",
          "Crime, Drama, Thriller",
          "Drama, Thriller",
          "Comedy, Drama, Family",
          "Other",
          "Other",
          "Other",
          "Other",
          "Other",
          "Other",
          "Other",
          "Other",
          "Other",
          "Other",
          "Other",
          "Other",
          "Other",
          "Other",
          "Other",
          "Other",
          "Other",
          "Other",
          "Other",
          "Other",
          "Other",
          "Other",
          "Other",
          "Other",
          "Other",
          "Other",
          "Other",
          "Other",
          "Other",
          "Other",
          "Other",
          "Other",
          "Other",
          "Other",
          "Other",
          "Other",
          "Other",
          "Other",
          "Other",
          "Other",
          "Other",
          "Other",
          "Other",
          "Other",
          "Other",
          "Other",
          "Other",
          "Other",
          "Other",
          "Other",
          "Other",
          "Other",
          "Other",
          "Other",
          "Other",
          "Other",
          "Other",
          "Other",
          "Other",
          "Other",
          "Other",
          "Other",
          "Other",
          "Other",
          "Other",
          "Other",
          "Other",
          "Other",
          "Other",
          "Other",
          "Other",
          "Other",
          "Other",
          "Other",
          "Other",
          "Other",
          "Other",
          "Other",
          "Other",
          "Other",
          "Other",
          "Other",
          "Other",
          "Other",
          "Other",
          "Other",
          "Other",
          "Other",
          "Other",
          "Other",
          "Other",
          "Other",
          "Other",
          "Other",
          "Other",
          "Other",
          "Other",
          "Other",
          "Other",
          "Other",
          "Other",
          "Other",
          "Other",
          "Other",
          "Other",
          "Other",
          "Other",
          "Other",
          "Other",
          "Other",
          "Other",
          "Other",
          "Other",
          "Other",
          "Other",
          "Other",
          "Other",
          "Other",
          "Other",
          "Other",
          "Other",
          "Other",
          "Other",
          "Other",
          "Other",
          "Other",
          "Other",
          "Other",
          "Other",
          "Other",
          "Other",
          "Other",
          "Other",
          "Other",
          "Other",
          "Other",
          "Other",
          "Other",
          "Other",
          "Other",
          "Other",
          "Other",
          "Other",
          "Other",
          "Other",
          "Other",
          "Other",
          "Other",
          "Other",
          "Other",
          "Other",
          "Other",
          "Other",
          "Other",
          "Other",
          "Other",
          "Other",
          "Other",
          "Other",
          "Other",
          "Other",
          "Other",
          "Other",
          "Other",
          "Other",
          "Other",
          "Other",
          "Other",
          "Other",
          "Other",
          "Other",
          "Other",
          "Other",
          "Other",
          "Other",
          "Other",
          "Other",
          "Other",
          "Other",
          "Other",
          "Other",
          "Other",
          "Other",
          "Other",
          "Other",
          "Other",
          "Other",
          "Other",
          "Other",
          "Other",
          "Other",
          "Other",
          "Other",
          "Other",
          "Other",
          "Other",
          "Other",
          "Other",
          "Other",
          "Other",
          "Other",
          "Other",
          "Other",
          "Other",
          "Other",
          "Other",
          "Other",
          "Other",
          "Other",
          "Other",
          "Other",
          "Other",
          "Other",
          "Other",
          "Other",
          "Other",
          "Other",
          "Other",
          "Other",
          "Other",
          "Other",
          "Other",
          "Other",
          "Other",
          "Other",
          "Other",
          "Other",
          "Other",
          "Other",
          "Other",
          "Other",
          "Other",
          "Other",
          "Other",
          "Other",
          "Other",
          "Other",
          "Other",
          "Other",
          "Other",
          "Other",
          "Other",
          "Other",
          "Other",
          "Other",
          "Other",
          "Other",
          "Other",
          "Other",
          "Other",
          "Other",
          "Other",
          "Other",
          "Other",
          "Other",
          "Other",
          "Other",
          "Other",
          "Other",
          "Other",
          "Other",
          "Other",
          "Other",
          "Other",
          "Other",
          "Other",
          "Other",
          "Other",
          "Other",
          "Other",
          "Other",
          "Other",
          "Other",
          "Other",
          "Other",
          "Other",
          "Other",
          "Other",
          "Other",
          "Other",
          "Other",
          "Other",
          "Other",
          "Other",
          "Other",
          "Other",
          "Other",
          "Other",
          "Other",
          "Other",
          "Other",
          "Other",
          "Other",
          "Other",
          "Other",
          "Other",
          "Other",
          "Other",
          "Other",
          "Other",
          "Other",
          "Other",
          "Other",
          "Other",
          "Other",
          "Other",
          "Other",
          "Other",
          "Other",
          "Other",
          "Other",
          "Other",
          "Other",
          "Other",
          "Other",
          "Other",
          "Other",
          "Other",
          "Other",
          "Other",
          "Other",
          "Other",
          "Other",
          "Other",
          "Other",
          "Other",
          "Other",
          "Other",
          "Other",
          "Other",
          "Other",
          "Other",
          "Other",
          "Other",
          "Other",
          "Other",
          "Other",
          "Other",
          "Other",
          "Other",
          "Other",
          "Other",
          "Other",
          "Other",
          "Other",
          "Other",
          "Other",
          "Other",
          "Other",
          "Other",
          "Other",
          "Other",
          "Other",
          "Other"
         ],
         "legendgroup": "",
         "name": "",
         "showlegend": true,
         "type": "pie",
         "values": [
          844,
          332,
          329,
          206,
          205,
          188,
          187,
          170,
          160,
          126,
          118,
          107,
          107,
          93,
          84,
          74,
          74,
          70,
          53,
          53,
          52,
          50,
          49,
          49,
          46,
          45,
          45,
          43,
          40,
          40,
          37,
          32,
          31,
          30,
          30,
          29,
          28,
          27,
          26,
          25,
          25,
          25,
          24,
          24,
          21,
          21,
          19,
          19,
          18,
          18,
          18,
          18,
          18,
          17,
          17,
          17,
          16,
          15,
          14,
          14,
          13,
          13,
          13,
          13,
          12,
          12,
          12,
          12,
          11,
          11,
          11,
          11,
          10,
          10,
          10,
          10,
          10,
          10,
          10,
          10,
          9,
          9,
          9,
          9,
          8,
          8,
          8,
          8,
          8,
          8,
          7,
          7,
          7,
          7,
          7,
          7,
          7,
          6,
          6,
          6,
          6,
          6,
          6,
          6,
          6,
          6,
          6,
          6,
          6,
          6,
          5,
          5,
          5,
          5,
          5,
          5,
          5,
          5,
          5,
          5,
          5,
          5,
          5,
          5,
          5,
          5,
          4,
          4,
          4,
          4,
          4,
          4,
          4,
          4,
          4,
          4,
          4,
          4,
          4,
          4,
          4,
          4,
          4,
          4,
          4,
          4,
          3,
          3,
          3,
          3,
          3,
          3,
          3,
          3,
          3,
          3,
          3,
          3,
          3,
          3,
          3,
          3,
          3,
          3,
          3,
          3,
          3,
          3,
          3,
          3,
          3,
          3,
          3,
          3,
          3,
          3,
          3,
          3,
          3,
          3,
          2,
          2,
          2,
          2,
          2,
          2,
          2,
          2,
          2,
          2,
          2,
          2,
          2,
          2,
          2,
          2,
          2,
          2,
          2,
          2,
          2,
          2,
          2,
          2,
          2,
          2,
          2,
          2,
          2,
          2,
          2,
          2,
          2,
          2,
          2,
          2,
          2,
          2,
          2,
          2,
          2,
          2,
          2,
          2,
          2,
          2,
          2,
          2,
          2,
          2,
          2,
          2,
          2,
          2,
          1,
          1,
          1,
          1,
          1,
          1,
          1,
          1,
          1,
          1,
          1,
          1,
          1,
          1,
          1,
          1,
          1,
          1,
          1,
          1,
          1,
          1,
          1,
          1,
          1,
          1,
          1,
          1,
          1,
          1,
          1,
          1,
          1,
          1,
          1,
          1,
          1,
          1,
          1,
          1,
          1,
          1,
          1,
          1,
          1,
          1,
          1,
          1,
          1,
          1,
          1,
          1,
          1,
          1,
          1,
          1,
          1,
          1,
          1,
          1,
          1,
          1,
          1,
          1,
          1,
          1,
          1,
          1,
          1,
          1,
          1,
          1,
          1,
          1,
          1,
          1,
          1,
          1,
          1,
          1,
          1,
          1,
          1,
          1,
          1,
          1,
          1,
          1,
          1,
          1,
          1,
          1,
          1,
          1,
          1,
          1,
          1,
          1,
          1,
          1,
          1,
          1,
          1,
          1,
          1,
          1,
          1,
          1,
          1,
          1,
          1,
          1,
          1,
          1,
          1,
          1,
          1,
          1,
          1,
          1,
          1,
          1,
          1,
          1,
          1,
          1,
          1,
          1,
          1,
          1,
          1,
          1,
          1,
          1,
          1,
          1,
          1,
          1,
          1,
          1,
          1,
          1
         ]
        }
       ],
       "layout": {
        "legend": {
         "tracegroupgap": 0
        },
        "template": {
         "data": {
          "bar": [
           {
            "error_x": {
             "color": "#2a3f5f"
            },
            "error_y": {
             "color": "#2a3f5f"
            },
            "marker": {
             "line": {
              "color": "#E5ECF6",
              "width": 0.5
             },
             "pattern": {
              "fillmode": "overlay",
              "size": 10,
              "solidity": 0.2
             }
            },
            "type": "bar"
           }
          ],
          "barpolar": [
           {
            "marker": {
             "line": {
              "color": "#E5ECF6",
              "width": 0.5
             },
             "pattern": {
              "fillmode": "overlay",
              "size": 10,
              "solidity": 0.2
             }
            },
            "type": "barpolar"
           }
          ],
          "carpet": [
           {
            "aaxis": {
             "endlinecolor": "#2a3f5f",
             "gridcolor": "white",
             "linecolor": "white",
             "minorgridcolor": "white",
             "startlinecolor": "#2a3f5f"
            },
            "baxis": {
             "endlinecolor": "#2a3f5f",
             "gridcolor": "white",
             "linecolor": "white",
             "minorgridcolor": "white",
             "startlinecolor": "#2a3f5f"
            },
            "type": "carpet"
           }
          ],
          "choropleth": [
           {
            "colorbar": {
             "outlinewidth": 0,
             "ticks": ""
            },
            "type": "choropleth"
           }
          ],
          "contour": [
           {
            "colorbar": {
             "outlinewidth": 0,
             "ticks": ""
            },
            "colorscale": [
             [
              0,
              "#0d0887"
             ],
             [
              0.1111111111111111,
              "#46039f"
             ],
             [
              0.2222222222222222,
              "#7201a8"
             ],
             [
              0.3333333333333333,
              "#9c179e"
             ],
             [
              0.4444444444444444,
              "#bd3786"
             ],
             [
              0.5555555555555556,
              "#d8576b"
             ],
             [
              0.6666666666666666,
              "#ed7953"
             ],
             [
              0.7777777777777778,
              "#fb9f3a"
             ],
             [
              0.8888888888888888,
              "#fdca26"
             ],
             [
              1,
              "#f0f921"
             ]
            ],
            "type": "contour"
           }
          ],
          "contourcarpet": [
           {
            "colorbar": {
             "outlinewidth": 0,
             "ticks": ""
            },
            "type": "contourcarpet"
           }
          ],
          "heatmap": [
           {
            "colorbar": {
             "outlinewidth": 0,
             "ticks": ""
            },
            "colorscale": [
             [
              0,
              "#0d0887"
             ],
             [
              0.1111111111111111,
              "#46039f"
             ],
             [
              0.2222222222222222,
              "#7201a8"
             ],
             [
              0.3333333333333333,
              "#9c179e"
             ],
             [
              0.4444444444444444,
              "#bd3786"
             ],
             [
              0.5555555555555556,
              "#d8576b"
             ],
             [
              0.6666666666666666,
              "#ed7953"
             ],
             [
              0.7777777777777778,
              "#fb9f3a"
             ],
             [
              0.8888888888888888,
              "#fdca26"
             ],
             [
              1,
              "#f0f921"
             ]
            ],
            "type": "heatmap"
           }
          ],
          "heatmapgl": [
           {
            "colorbar": {
             "outlinewidth": 0,
             "ticks": ""
            },
            "colorscale": [
             [
              0,
              "#0d0887"
             ],
             [
              0.1111111111111111,
              "#46039f"
             ],
             [
              0.2222222222222222,
              "#7201a8"
             ],
             [
              0.3333333333333333,
              "#9c179e"
             ],
             [
              0.4444444444444444,
              "#bd3786"
             ],
             [
              0.5555555555555556,
              "#d8576b"
             ],
             [
              0.6666666666666666,
              "#ed7953"
             ],
             [
              0.7777777777777778,
              "#fb9f3a"
             ],
             [
              0.8888888888888888,
              "#fdca26"
             ],
             [
              1,
              "#f0f921"
             ]
            ],
            "type": "heatmapgl"
           }
          ],
          "histogram": [
           {
            "marker": {
             "pattern": {
              "fillmode": "overlay",
              "size": 10,
              "solidity": 0.2
             }
            },
            "type": "histogram"
           }
          ],
          "histogram2d": [
           {
            "colorbar": {
             "outlinewidth": 0,
             "ticks": ""
            },
            "colorscale": [
             [
              0,
              "#0d0887"
             ],
             [
              0.1111111111111111,
              "#46039f"
             ],
             [
              0.2222222222222222,
              "#7201a8"
             ],
             [
              0.3333333333333333,
              "#9c179e"
             ],
             [
              0.4444444444444444,
              "#bd3786"
             ],
             [
              0.5555555555555556,
              "#d8576b"
             ],
             [
              0.6666666666666666,
              "#ed7953"
             ],
             [
              0.7777777777777778,
              "#fb9f3a"
             ],
             [
              0.8888888888888888,
              "#fdca26"
             ],
             [
              1,
              "#f0f921"
             ]
            ],
            "type": "histogram2d"
           }
          ],
          "histogram2dcontour": [
           {
            "colorbar": {
             "outlinewidth": 0,
             "ticks": ""
            },
            "colorscale": [
             [
              0,
              "#0d0887"
             ],
             [
              0.1111111111111111,
              "#46039f"
             ],
             [
              0.2222222222222222,
              "#7201a8"
             ],
             [
              0.3333333333333333,
              "#9c179e"
             ],
             [
              0.4444444444444444,
              "#bd3786"
             ],
             [
              0.5555555555555556,
              "#d8576b"
             ],
             [
              0.6666666666666666,
              "#ed7953"
             ],
             [
              0.7777777777777778,
              "#fb9f3a"
             ],
             [
              0.8888888888888888,
              "#fdca26"
             ],
             [
              1,
              "#f0f921"
             ]
            ],
            "type": "histogram2dcontour"
           }
          ],
          "mesh3d": [
           {
            "colorbar": {
             "outlinewidth": 0,
             "ticks": ""
            },
            "type": "mesh3d"
           }
          ],
          "parcoords": [
           {
            "line": {
             "colorbar": {
              "outlinewidth": 0,
              "ticks": ""
             }
            },
            "type": "parcoords"
           }
          ],
          "pie": [
           {
            "automargin": true,
            "type": "pie"
           }
          ],
          "scatter": [
           {
            "fillpattern": {
             "fillmode": "overlay",
             "size": 10,
             "solidity": 0.2
            },
            "type": "scatter"
           }
          ],
          "scatter3d": [
           {
            "line": {
             "colorbar": {
              "outlinewidth": 0,
              "ticks": ""
             }
            },
            "marker": {
             "colorbar": {
              "outlinewidth": 0,
              "ticks": ""
             }
            },
            "type": "scatter3d"
           }
          ],
          "scattercarpet": [
           {
            "marker": {
             "colorbar": {
              "outlinewidth": 0,
              "ticks": ""
             }
            },
            "type": "scattercarpet"
           }
          ],
          "scattergeo": [
           {
            "marker": {
             "colorbar": {
              "outlinewidth": 0,
              "ticks": ""
             }
            },
            "type": "scattergeo"
           }
          ],
          "scattergl": [
           {
            "marker": {
             "colorbar": {
              "outlinewidth": 0,
              "ticks": ""
             }
            },
            "type": "scattergl"
           }
          ],
          "scattermapbox": [
           {
            "marker": {
             "colorbar": {
              "outlinewidth": 0,
              "ticks": ""
             }
            },
            "type": "scattermapbox"
           }
          ],
          "scatterpolar": [
           {
            "marker": {
             "colorbar": {
              "outlinewidth": 0,
              "ticks": ""
             }
            },
            "type": "scatterpolar"
           }
          ],
          "scatterpolargl": [
           {
            "marker": {
             "colorbar": {
              "outlinewidth": 0,
              "ticks": ""
             }
            },
            "type": "scatterpolargl"
           }
          ],
          "scatterternary": [
           {
            "marker": {
             "colorbar": {
              "outlinewidth": 0,
              "ticks": ""
             }
            },
            "type": "scatterternary"
           }
          ],
          "surface": [
           {
            "colorbar": {
             "outlinewidth": 0,
             "ticks": ""
            },
            "colorscale": [
             [
              0,
              "#0d0887"
             ],
             [
              0.1111111111111111,
              "#46039f"
             ],
             [
              0.2222222222222222,
              "#7201a8"
             ],
             [
              0.3333333333333333,
              "#9c179e"
             ],
             [
              0.4444444444444444,
              "#bd3786"
             ],
             [
              0.5555555555555556,
              "#d8576b"
             ],
             [
              0.6666666666666666,
              "#ed7953"
             ],
             [
              0.7777777777777778,
              "#fb9f3a"
             ],
             [
              0.8888888888888888,
              "#fdca26"
             ],
             [
              1,
              "#f0f921"
             ]
            ],
            "type": "surface"
           }
          ],
          "table": [
           {
            "cells": {
             "fill": {
              "color": "#EBF0F8"
             },
             "line": {
              "color": "white"
             }
            },
            "header": {
             "fill": {
              "color": "#C8D4E3"
             },
             "line": {
              "color": "white"
             }
            },
            "type": "table"
           }
          ]
         },
         "layout": {
          "annotationdefaults": {
           "arrowcolor": "#2a3f5f",
           "arrowhead": 0,
           "arrowwidth": 1
          },
          "autotypenumbers": "strict",
          "coloraxis": {
           "colorbar": {
            "outlinewidth": 0,
            "ticks": ""
           }
          },
          "colorscale": {
           "diverging": [
            [
             0,
             "#8e0152"
            ],
            [
             0.1,
             "#c51b7d"
            ],
            [
             0.2,
             "#de77ae"
            ],
            [
             0.3,
             "#f1b6da"
            ],
            [
             0.4,
             "#fde0ef"
            ],
            [
             0.5,
             "#f7f7f7"
            ],
            [
             0.6,
             "#e6f5d0"
            ],
            [
             0.7,
             "#b8e186"
            ],
            [
             0.8,
             "#7fbc41"
            ],
            [
             0.9,
             "#4d9221"
            ],
            [
             1,
             "#276419"
            ]
           ],
           "sequential": [
            [
             0,
             "#0d0887"
            ],
            [
             0.1111111111111111,
             "#46039f"
            ],
            [
             0.2222222222222222,
             "#7201a8"
            ],
            [
             0.3333333333333333,
             "#9c179e"
            ],
            [
             0.4444444444444444,
             "#bd3786"
            ],
            [
             0.5555555555555556,
             "#d8576b"
            ],
            [
             0.6666666666666666,
             "#ed7953"
            ],
            [
             0.7777777777777778,
             "#fb9f3a"
            ],
            [
             0.8888888888888888,
             "#fdca26"
            ],
            [
             1,
             "#f0f921"
            ]
           ],
           "sequentialminus": [
            [
             0,
             "#0d0887"
            ],
            [
             0.1111111111111111,
             "#46039f"
            ],
            [
             0.2222222222222222,
             "#7201a8"
            ],
            [
             0.3333333333333333,
             "#9c179e"
            ],
            [
             0.4444444444444444,
             "#bd3786"
            ],
            [
             0.5555555555555556,
             "#d8576b"
            ],
            [
             0.6666666666666666,
             "#ed7953"
            ],
            [
             0.7777777777777778,
             "#fb9f3a"
            ],
            [
             0.8888888888888888,
             "#fdca26"
            ],
            [
             1,
             "#f0f921"
            ]
           ]
          },
          "colorway": [
           "#636efa",
           "#EF553B",
           "#00cc96",
           "#ab63fa",
           "#FFA15A",
           "#19d3f3",
           "#FF6692",
           "#B6E880",
           "#FF97FF",
           "#FECB52"
          ],
          "font": {
           "color": "#2a3f5f"
          },
          "geo": {
           "bgcolor": "white",
           "lakecolor": "white",
           "landcolor": "#E5ECF6",
           "showlakes": true,
           "showland": true,
           "subunitcolor": "white"
          },
          "hoverlabel": {
           "align": "left"
          },
          "hovermode": "closest",
          "mapbox": {
           "style": "light"
          },
          "paper_bgcolor": "white",
          "plot_bgcolor": "#E5ECF6",
          "polar": {
           "angularaxis": {
            "gridcolor": "white",
            "linecolor": "white",
            "ticks": ""
           },
           "bgcolor": "#E5ECF6",
           "radialaxis": {
            "gridcolor": "white",
            "linecolor": "white",
            "ticks": ""
           }
          },
          "scene": {
           "xaxis": {
            "backgroundcolor": "#E5ECF6",
            "gridcolor": "white",
            "gridwidth": 2,
            "linecolor": "white",
            "showbackground": true,
            "ticks": "",
            "zerolinecolor": "white"
           },
           "yaxis": {
            "backgroundcolor": "#E5ECF6",
            "gridcolor": "white",
            "gridwidth": 2,
            "linecolor": "white",
            "showbackground": true,
            "ticks": "",
            "zerolinecolor": "white"
           },
           "zaxis": {
            "backgroundcolor": "#E5ECF6",
            "gridcolor": "white",
            "gridwidth": 2,
            "linecolor": "white",
            "showbackground": true,
            "ticks": "",
            "zerolinecolor": "white"
           }
          },
          "shapedefaults": {
           "line": {
            "color": "#2a3f5f"
           }
          },
          "ternary": {
           "aaxis": {
            "gridcolor": "white",
            "linecolor": "white",
            "ticks": ""
           },
           "baxis": {
            "gridcolor": "white",
            "linecolor": "white",
            "ticks": ""
           },
           "bgcolor": "#E5ECF6",
           "caxis": {
            "gridcolor": "white",
            "linecolor": "white",
            "ticks": ""
           }
          },
          "title": {
           "x": 0.05
          },
          "xaxis": {
           "automargin": true,
           "gridcolor": "white",
           "linecolor": "white",
           "ticks": "",
           "title": {
            "standoff": 15
           },
           "zerolinecolor": "white",
           "zerolinewidth": 2
          },
          "yaxis": {
           "automargin": true,
           "gridcolor": "white",
           "linecolor": "white",
           "ticks": "",
           "title": {
            "standoff": 15
           },
           "zerolinecolor": "white",
           "zerolinewidth": 2
          }
         }
        },
        "title": {
         "text": "More than one Genre of movies in Indian Cinema"
        }
       }
      },
      "text/html": [
       "<div>                            <div id=\"0ad6a5ea-c009-409a-9fdb-3160ca9588ff\" class=\"plotly-graph-div\" style=\"height:525px; width:100%;\"></div>            <script type=\"text/javascript\">                require([\"plotly\"], function(Plotly) {                    window.PLOTLYENV=window.PLOTLYENV || {};                                    if (document.getElementById(\"0ad6a5ea-c009-409a-9fdb-3160ca9588ff\")) {                    Plotly.newPlot(                        \"0ad6a5ea-c009-409a-9fdb-3160ca9588ff\",                        [{\"domain\":{\"x\":[0.0,1.0],\"y\":[0.0,1.0]},\"hovertemplate\":\"Genre=%{label}<br>Count=%{value}<extra></extra>\",\"labels\":[\"Drama\",\"Drama, Romance\",\"Action, Crime, Drama\",\"Action, Drama\",\"Comedy, Drama\",\"Comedy, Drama, Romance\",\"Comedy\",\"Action\",\"Drama, Family\",\"Romance\",\"Action, Comedy, Drama\",\"Comedy, Romance\",\"Action, Drama, Romance\",\"Drama, Musical, Romance\",\"Thriller\",\"Action, Comedy, Crime\",\"Horror\",\"Action, Thriller\",\"Comedy, Crime, Drama\",\"Crime, Drama, Thriller\",\"Drama, Thriller\",\"Comedy, Drama, Family\",\"Other\",\"Other\",\"Other\",\"Other\",\"Other\",\"Other\",\"Other\",\"Other\",\"Other\",\"Other\",\"Other\",\"Other\",\"Other\",\"Other\",\"Other\",\"Other\",\"Other\",\"Other\",\"Other\",\"Other\",\"Other\",\"Other\",\"Other\",\"Other\",\"Other\",\"Other\",\"Other\",\"Other\",\"Other\",\"Other\",\"Other\",\"Other\",\"Other\",\"Other\",\"Other\",\"Other\",\"Other\",\"Other\",\"Other\",\"Other\",\"Other\",\"Other\",\"Other\",\"Other\",\"Other\",\"Other\",\"Other\",\"Other\",\"Other\",\"Other\",\"Other\",\"Other\",\"Other\",\"Other\",\"Other\",\"Other\",\"Other\",\"Other\",\"Other\",\"Other\",\"Other\",\"Other\",\"Other\",\"Other\",\"Other\",\"Other\",\"Other\",\"Other\",\"Other\",\"Other\",\"Other\",\"Other\",\"Other\",\"Other\",\"Other\",\"Other\",\"Other\",\"Other\",\"Other\",\"Other\",\"Other\",\"Other\",\"Other\",\"Other\",\"Other\",\"Other\",\"Other\",\"Other\",\"Other\",\"Other\",\"Other\",\"Other\",\"Other\",\"Other\",\"Other\",\"Other\",\"Other\",\"Other\",\"Other\",\"Other\",\"Other\",\"Other\",\"Other\",\"Other\",\"Other\",\"Other\",\"Other\",\"Other\",\"Other\",\"Other\",\"Other\",\"Other\",\"Other\",\"Other\",\"Other\",\"Other\",\"Other\",\"Other\",\"Other\",\"Other\",\"Other\",\"Other\",\"Other\",\"Other\",\"Other\",\"Other\",\"Other\",\"Other\",\"Other\",\"Other\",\"Other\",\"Other\",\"Other\",\"Other\",\"Other\",\"Other\",\"Other\",\"Other\",\"Other\",\"Other\",\"Other\",\"Other\",\"Other\",\"Other\",\"Other\",\"Other\",\"Other\",\"Other\",\"Other\",\"Other\",\"Other\",\"Other\",\"Other\",\"Other\",\"Other\",\"Other\",\"Other\",\"Other\",\"Other\",\"Other\",\"Other\",\"Other\",\"Other\",\"Other\",\"Other\",\"Other\",\"Other\",\"Other\",\"Other\",\"Other\",\"Other\",\"Other\",\"Other\",\"Other\",\"Other\",\"Other\",\"Other\",\"Other\",\"Other\",\"Other\",\"Other\",\"Other\",\"Other\",\"Other\",\"Other\",\"Other\",\"Other\",\"Other\",\"Other\",\"Other\",\"Other\",\"Other\",\"Other\",\"Other\",\"Other\",\"Other\",\"Other\",\"Other\",\"Other\",\"Other\",\"Other\",\"Other\",\"Other\",\"Other\",\"Other\",\"Other\",\"Other\",\"Other\",\"Other\",\"Other\",\"Other\",\"Other\",\"Other\",\"Other\",\"Other\",\"Other\",\"Other\",\"Other\",\"Other\",\"Other\",\"Other\",\"Other\",\"Other\",\"Other\",\"Other\",\"Other\",\"Other\",\"Other\",\"Other\",\"Other\",\"Other\",\"Other\",\"Other\",\"Other\",\"Other\",\"Other\",\"Other\",\"Other\",\"Other\",\"Other\",\"Other\",\"Other\",\"Other\",\"Other\",\"Other\",\"Other\",\"Other\",\"Other\",\"Other\",\"Other\",\"Other\",\"Other\",\"Other\",\"Other\",\"Other\",\"Other\",\"Other\",\"Other\",\"Other\",\"Other\",\"Other\",\"Other\",\"Other\",\"Other\",\"Other\",\"Other\",\"Other\",\"Other\",\"Other\",\"Other\",\"Other\",\"Other\",\"Other\",\"Other\",\"Other\",\"Other\",\"Other\",\"Other\",\"Other\",\"Other\",\"Other\",\"Other\",\"Other\",\"Other\",\"Other\",\"Other\",\"Other\",\"Other\",\"Other\",\"Other\",\"Other\",\"Other\",\"Other\",\"Other\",\"Other\",\"Other\",\"Other\",\"Other\",\"Other\",\"Other\",\"Other\",\"Other\",\"Other\",\"Other\",\"Other\",\"Other\",\"Other\",\"Other\",\"Other\",\"Other\",\"Other\",\"Other\",\"Other\",\"Other\",\"Other\",\"Other\",\"Other\",\"Other\",\"Other\",\"Other\",\"Other\",\"Other\",\"Other\",\"Other\",\"Other\",\"Other\",\"Other\",\"Other\",\"Other\",\"Other\",\"Other\",\"Other\",\"Other\",\"Other\",\"Other\",\"Other\",\"Other\",\"Other\",\"Other\",\"Other\",\"Other\",\"Other\",\"Other\",\"Other\",\"Other\",\"Other\",\"Other\",\"Other\",\"Other\",\"Other\",\"Other\",\"Other\",\"Other\",\"Other\"],\"legendgroup\":\"\",\"name\":\"\",\"showlegend\":true,\"values\":[844,332,329,206,205,188,187,170,160,126,118,107,107,93,84,74,74,70,53,53,52,50,49,49,46,45,45,43,40,40,37,32,31,30,30,29,28,27,26,25,25,25,24,24,21,21,19,19,18,18,18,18,18,17,17,17,16,15,14,14,13,13,13,13,12,12,12,12,11,11,11,11,10,10,10,10,10,10,10,10,9,9,9,9,8,8,8,8,8,8,7,7,7,7,7,7,7,6,6,6,6,6,6,6,6,6,6,6,6,6,5,5,5,5,5,5,5,5,5,5,5,5,5,5,5,5,4,4,4,4,4,4,4,4,4,4,4,4,4,4,4,4,4,4,4,4,3,3,3,3,3,3,3,3,3,3,3,3,3,3,3,3,3,3,3,3,3,3,3,3,3,3,3,3,3,3,3,3,3,3,2,2,2,2,2,2,2,2,2,2,2,2,2,2,2,2,2,2,2,2,2,2,2,2,2,2,2,2,2,2,2,2,2,2,2,2,2,2,2,2,2,2,2,2,2,2,2,2,2,2,2,2,2,2,1,1,1,1,1,1,1,1,1,1,1,1,1,1,1,1,1,1,1,1,1,1,1,1,1,1,1,1,1,1,1,1,1,1,1,1,1,1,1,1,1,1,1,1,1,1,1,1,1,1,1,1,1,1,1,1,1,1,1,1,1,1,1,1,1,1,1,1,1,1,1,1,1,1,1,1,1,1,1,1,1,1,1,1,1,1,1,1,1,1,1,1,1,1,1,1,1,1,1,1,1,1,1,1,1,1,1,1,1,1,1,1,1,1,1,1,1,1,1,1,1,1,1,1,1,1,1,1,1,1,1,1,1,1,1,1,1,1,1,1,1,1],\"type\":\"pie\"}],                        {\"template\":{\"data\":{\"histogram2dcontour\":[{\"type\":\"histogram2dcontour\",\"colorbar\":{\"outlinewidth\":0,\"ticks\":\"\"},\"colorscale\":[[0.0,\"#0d0887\"],[0.1111111111111111,\"#46039f\"],[0.2222222222222222,\"#7201a8\"],[0.3333333333333333,\"#9c179e\"],[0.4444444444444444,\"#bd3786\"],[0.5555555555555556,\"#d8576b\"],[0.6666666666666666,\"#ed7953\"],[0.7777777777777778,\"#fb9f3a\"],[0.8888888888888888,\"#fdca26\"],[1.0,\"#f0f921\"]]}],\"choropleth\":[{\"type\":\"choropleth\",\"colorbar\":{\"outlinewidth\":0,\"ticks\":\"\"}}],\"histogram2d\":[{\"type\":\"histogram2d\",\"colorbar\":{\"outlinewidth\":0,\"ticks\":\"\"},\"colorscale\":[[0.0,\"#0d0887\"],[0.1111111111111111,\"#46039f\"],[0.2222222222222222,\"#7201a8\"],[0.3333333333333333,\"#9c179e\"],[0.4444444444444444,\"#bd3786\"],[0.5555555555555556,\"#d8576b\"],[0.6666666666666666,\"#ed7953\"],[0.7777777777777778,\"#fb9f3a\"],[0.8888888888888888,\"#fdca26\"],[1.0,\"#f0f921\"]]}],\"heatmap\":[{\"type\":\"heatmap\",\"colorbar\":{\"outlinewidth\":0,\"ticks\":\"\"},\"colorscale\":[[0.0,\"#0d0887\"],[0.1111111111111111,\"#46039f\"],[0.2222222222222222,\"#7201a8\"],[0.3333333333333333,\"#9c179e\"],[0.4444444444444444,\"#bd3786\"],[0.5555555555555556,\"#d8576b\"],[0.6666666666666666,\"#ed7953\"],[0.7777777777777778,\"#fb9f3a\"],[0.8888888888888888,\"#fdca26\"],[1.0,\"#f0f921\"]]}],\"heatmapgl\":[{\"type\":\"heatmapgl\",\"colorbar\":{\"outlinewidth\":0,\"ticks\":\"\"},\"colorscale\":[[0.0,\"#0d0887\"],[0.1111111111111111,\"#46039f\"],[0.2222222222222222,\"#7201a8\"],[0.3333333333333333,\"#9c179e\"],[0.4444444444444444,\"#bd3786\"],[0.5555555555555556,\"#d8576b\"],[0.6666666666666666,\"#ed7953\"],[0.7777777777777778,\"#fb9f3a\"],[0.8888888888888888,\"#fdca26\"],[1.0,\"#f0f921\"]]}],\"contourcarpet\":[{\"type\":\"contourcarpet\",\"colorbar\":{\"outlinewidth\":0,\"ticks\":\"\"}}],\"contour\":[{\"type\":\"contour\",\"colorbar\":{\"outlinewidth\":0,\"ticks\":\"\"},\"colorscale\":[[0.0,\"#0d0887\"],[0.1111111111111111,\"#46039f\"],[0.2222222222222222,\"#7201a8\"],[0.3333333333333333,\"#9c179e\"],[0.4444444444444444,\"#bd3786\"],[0.5555555555555556,\"#d8576b\"],[0.6666666666666666,\"#ed7953\"],[0.7777777777777778,\"#fb9f3a\"],[0.8888888888888888,\"#fdca26\"],[1.0,\"#f0f921\"]]}],\"surface\":[{\"type\":\"surface\",\"colorbar\":{\"outlinewidth\":0,\"ticks\":\"\"},\"colorscale\":[[0.0,\"#0d0887\"],[0.1111111111111111,\"#46039f\"],[0.2222222222222222,\"#7201a8\"],[0.3333333333333333,\"#9c179e\"],[0.4444444444444444,\"#bd3786\"],[0.5555555555555556,\"#d8576b\"],[0.6666666666666666,\"#ed7953\"],[0.7777777777777778,\"#fb9f3a\"],[0.8888888888888888,\"#fdca26\"],[1.0,\"#f0f921\"]]}],\"mesh3d\":[{\"type\":\"mesh3d\",\"colorbar\":{\"outlinewidth\":0,\"ticks\":\"\"}}],\"scatter\":[{\"fillpattern\":{\"fillmode\":\"overlay\",\"size\":10,\"solidity\":0.2},\"type\":\"scatter\"}],\"parcoords\":[{\"type\":\"parcoords\",\"line\":{\"colorbar\":{\"outlinewidth\":0,\"ticks\":\"\"}}}],\"scatterpolargl\":[{\"type\":\"scatterpolargl\",\"marker\":{\"colorbar\":{\"outlinewidth\":0,\"ticks\":\"\"}}}],\"bar\":[{\"error_x\":{\"color\":\"#2a3f5f\"},\"error_y\":{\"color\":\"#2a3f5f\"},\"marker\":{\"line\":{\"color\":\"#E5ECF6\",\"width\":0.5},\"pattern\":{\"fillmode\":\"overlay\",\"size\":10,\"solidity\":0.2}},\"type\":\"bar\"}],\"scattergeo\":[{\"type\":\"scattergeo\",\"marker\":{\"colorbar\":{\"outlinewidth\":0,\"ticks\":\"\"}}}],\"scatterpolar\":[{\"type\":\"scatterpolar\",\"marker\":{\"colorbar\":{\"outlinewidth\":0,\"ticks\":\"\"}}}],\"histogram\":[{\"marker\":{\"pattern\":{\"fillmode\":\"overlay\",\"size\":10,\"solidity\":0.2}},\"type\":\"histogram\"}],\"scattergl\":[{\"type\":\"scattergl\",\"marker\":{\"colorbar\":{\"outlinewidth\":0,\"ticks\":\"\"}}}],\"scatter3d\":[{\"type\":\"scatter3d\",\"line\":{\"colorbar\":{\"outlinewidth\":0,\"ticks\":\"\"}},\"marker\":{\"colorbar\":{\"outlinewidth\":0,\"ticks\":\"\"}}}],\"scattermapbox\":[{\"type\":\"scattermapbox\",\"marker\":{\"colorbar\":{\"outlinewidth\":0,\"ticks\":\"\"}}}],\"scatterternary\":[{\"type\":\"scatterternary\",\"marker\":{\"colorbar\":{\"outlinewidth\":0,\"ticks\":\"\"}}}],\"scattercarpet\":[{\"type\":\"scattercarpet\",\"marker\":{\"colorbar\":{\"outlinewidth\":0,\"ticks\":\"\"}}}],\"carpet\":[{\"aaxis\":{\"endlinecolor\":\"#2a3f5f\",\"gridcolor\":\"white\",\"linecolor\":\"white\",\"minorgridcolor\":\"white\",\"startlinecolor\":\"#2a3f5f\"},\"baxis\":{\"endlinecolor\":\"#2a3f5f\",\"gridcolor\":\"white\",\"linecolor\":\"white\",\"minorgridcolor\":\"white\",\"startlinecolor\":\"#2a3f5f\"},\"type\":\"carpet\"}],\"table\":[{\"cells\":{\"fill\":{\"color\":\"#EBF0F8\"},\"line\":{\"color\":\"white\"}},\"header\":{\"fill\":{\"color\":\"#C8D4E3\"},\"line\":{\"color\":\"white\"}},\"type\":\"table\"}],\"barpolar\":[{\"marker\":{\"line\":{\"color\":\"#E5ECF6\",\"width\":0.5},\"pattern\":{\"fillmode\":\"overlay\",\"size\":10,\"solidity\":0.2}},\"type\":\"barpolar\"}],\"pie\":[{\"automargin\":true,\"type\":\"pie\"}]},\"layout\":{\"autotypenumbers\":\"strict\",\"colorway\":[\"#636efa\",\"#EF553B\",\"#00cc96\",\"#ab63fa\",\"#FFA15A\",\"#19d3f3\",\"#FF6692\",\"#B6E880\",\"#FF97FF\",\"#FECB52\"],\"font\":{\"color\":\"#2a3f5f\"},\"hovermode\":\"closest\",\"hoverlabel\":{\"align\":\"left\"},\"paper_bgcolor\":\"white\",\"plot_bgcolor\":\"#E5ECF6\",\"polar\":{\"bgcolor\":\"#E5ECF6\",\"angularaxis\":{\"gridcolor\":\"white\",\"linecolor\":\"white\",\"ticks\":\"\"},\"radialaxis\":{\"gridcolor\":\"white\",\"linecolor\":\"white\",\"ticks\":\"\"}},\"ternary\":{\"bgcolor\":\"#E5ECF6\",\"aaxis\":{\"gridcolor\":\"white\",\"linecolor\":\"white\",\"ticks\":\"\"},\"baxis\":{\"gridcolor\":\"white\",\"linecolor\":\"white\",\"ticks\":\"\"},\"caxis\":{\"gridcolor\":\"white\",\"linecolor\":\"white\",\"ticks\":\"\"}},\"coloraxis\":{\"colorbar\":{\"outlinewidth\":0,\"ticks\":\"\"}},\"colorscale\":{\"sequential\":[[0.0,\"#0d0887\"],[0.1111111111111111,\"#46039f\"],[0.2222222222222222,\"#7201a8\"],[0.3333333333333333,\"#9c179e\"],[0.4444444444444444,\"#bd3786\"],[0.5555555555555556,\"#d8576b\"],[0.6666666666666666,\"#ed7953\"],[0.7777777777777778,\"#fb9f3a\"],[0.8888888888888888,\"#fdca26\"],[1.0,\"#f0f921\"]],\"sequentialminus\":[[0.0,\"#0d0887\"],[0.1111111111111111,\"#46039f\"],[0.2222222222222222,\"#7201a8\"],[0.3333333333333333,\"#9c179e\"],[0.4444444444444444,\"#bd3786\"],[0.5555555555555556,\"#d8576b\"],[0.6666666666666666,\"#ed7953\"],[0.7777777777777778,\"#fb9f3a\"],[0.8888888888888888,\"#fdca26\"],[1.0,\"#f0f921\"]],\"diverging\":[[0,\"#8e0152\"],[0.1,\"#c51b7d\"],[0.2,\"#de77ae\"],[0.3,\"#f1b6da\"],[0.4,\"#fde0ef\"],[0.5,\"#f7f7f7\"],[0.6,\"#e6f5d0\"],[0.7,\"#b8e186\"],[0.8,\"#7fbc41\"],[0.9,\"#4d9221\"],[1,\"#276419\"]]},\"xaxis\":{\"gridcolor\":\"white\",\"linecolor\":\"white\",\"ticks\":\"\",\"title\":{\"standoff\":15},\"zerolinecolor\":\"white\",\"automargin\":true,\"zerolinewidth\":2},\"yaxis\":{\"gridcolor\":\"white\",\"linecolor\":\"white\",\"ticks\":\"\",\"title\":{\"standoff\":15},\"zerolinecolor\":\"white\",\"automargin\":true,\"zerolinewidth\":2},\"scene\":{\"xaxis\":{\"backgroundcolor\":\"#E5ECF6\",\"gridcolor\":\"white\",\"linecolor\":\"white\",\"showbackground\":true,\"ticks\":\"\",\"zerolinecolor\":\"white\",\"gridwidth\":2},\"yaxis\":{\"backgroundcolor\":\"#E5ECF6\",\"gridcolor\":\"white\",\"linecolor\":\"white\",\"showbackground\":true,\"ticks\":\"\",\"zerolinecolor\":\"white\",\"gridwidth\":2},\"zaxis\":{\"backgroundcolor\":\"#E5ECF6\",\"gridcolor\":\"white\",\"linecolor\":\"white\",\"showbackground\":true,\"ticks\":\"\",\"zerolinecolor\":\"white\",\"gridwidth\":2}},\"shapedefaults\":{\"line\":{\"color\":\"#2a3f5f\"}},\"annotationdefaults\":{\"arrowcolor\":\"#2a3f5f\",\"arrowhead\":0,\"arrowwidth\":1},\"geo\":{\"bgcolor\":\"white\",\"landcolor\":\"#E5ECF6\",\"subunitcolor\":\"white\",\"showland\":true,\"showlakes\":true,\"lakecolor\":\"white\"},\"title\":{\"x\":0.05},\"mapbox\":{\"style\":\"light\"}}},\"legend\":{\"tracegroupgap\":0},\"title\":{\"text\":\"More than one Genre of movies in Indian Cinema\"}},                        {\"responsive\": true}                    ).then(function(){\n",
       "                            \n",
       "var gd = document.getElementById('0ad6a5ea-c009-409a-9fdb-3160ca9588ff');\n",
       "var x = new MutationObserver(function (mutations, observer) {{\n",
       "        var display = window.getComputedStyle(gd).display;\n",
       "        if (!display || display === 'none') {{\n",
       "            console.log([gd, 'removed!']);\n",
       "            Plotly.purge(gd);\n",
       "            observer.disconnect();\n",
       "        }}\n",
       "}});\n",
       "\n",
       "// Listen for the removal of the full notebook cells\n",
       "var notebookContainer = gd.closest('#notebook-container');\n",
       "if (notebookContainer) {{\n",
       "    x.observe(notebookContainer, {childList: true});\n",
       "}}\n",
       "\n",
       "// Listen for the clearing of the current output cell\n",
       "var outputEl = gd.closest('.output');\n",
       "if (outputEl) {{\n",
       "    x.observe(outputEl, {childList: true});\n",
       "}}\n",
       "\n",
       "                        })                };                });            </script>        </div>"
      ]
     },
     "metadata": {},
     "output_type": "display_data"
    }
   ],
   "source": [
    "genrePie.loc[genrePie['Count'] < 50, 'Genre'] = 'Other'\n",
    "ax = px.pie(genrePie, values='Count', names='Genre', title='More than one Genre of movies in Indian Cinema')\n",
    "ax.show()"
   ]
  },
  {
   "cell_type": "code",
   "execution_count": 170,
   "id": "e4ab9fb7",
   "metadata": {},
   "outputs": [
    {
     "data": {
      "image/png": "[encoded data removed]",
      "text/plain": [
       "<Figure size 640x480 with 1 Axes>"
      ]
     },
     "metadata": {},
     "output_type": "display_data"
    }
   ],
   "source": [
    "ax = sb.histplot(data = movie_file, x = \"Rating\", bins = 20, kde = True)\n",
    "ax.set_xlabel('Rating')\n",
    "ax.set_ylabel('Frequency')\n",
    "ax.set_title('Distribution of Movie Ratings')\n",
    "plt.show()"
   ]
  },
  {
   "cell_type": "code",
   "execution_count": 171,
   "id": "591ac877",
   "metadata": {},
   "outputs": [
    {
     "data": {
      "image/png": "[encoded data removed]",
      "text/plain": [
       "<Figure size 640x480 with 1 Axes>"
      ]
     },
     "metadata": {},
     "output_type": "display_data"
    }
   ],
   "source": [
    "ax = sb.boxplot(data=movie_file, y='Rating')\n",
    "ax.set_ylabel('Rating')\n",
    "ax.set_title('Box Plot of Movie Ratings')\n",
    "plt.show()"
   ]
  },
  {
   "cell_type": "code",
   "execution_count": 172,
   "id": "0bed8970",
   "metadata": {},
   "outputs": [
    {
     "data": {
      "text/html": [
       "<div>\n",
       "<style scoped>\n",
       "    .dataframe tbody tr th:only-of-type {\n",
       "        vertical-align: middle;\n",
       "    }\n",
       "\n",
       "    .dataframe tbody tr th {\n",
       "        vertical-align: top;\n",
       "    }\n",
       "\n",
       "    .dataframe thead th {\n",
       "        text-align: right;\n",
       "    }\n",
       "</style>\n",
       "<table border=\"1\" class=\"dataframe\">\n",
       "  <thead>\n",
       "    <tr style=\"text-align: right;\">\n",
       "      <th></th>\n",
       "      <th>Name</th>\n",
       "      <th>Year</th>\n",
       "      <th>Duration</th>\n",
       "      <th>Genre</th>\n",
       "      <th>Rating</th>\n",
       "      <th>Votes</th>\n",
       "      <th>Director</th>\n",
       "      <th>Actor 1</th>\n",
       "      <th>Actor 2</th>\n",
       "      <th>Actor 3</th>\n",
       "    </tr>\n",
       "  </thead>\n",
       "  <tbody>\n",
       "    <tr>\n",
       "      <th>1</th>\n",
       "      <td>#Gadhvi (He thought he was Gandhi)</td>\n",
       "      <td>2019</td>\n",
       "      <td>109</td>\n",
       "      <td>Drama</td>\n",
       "      <td>7.0</td>\n",
       "      <td>8</td>\n",
       "      <td>Gaurav Bakshi</td>\n",
       "      <td>Rasika Dugal</td>\n",
       "      <td>Vivek Ghamande</td>\n",
       "      <td>Arvind Jangid</td>\n",
       "    </tr>\n",
       "    <tr>\n",
       "      <th>3</th>\n",
       "      <td>#Yaaram</td>\n",
       "      <td>2019</td>\n",
       "      <td>110</td>\n",
       "      <td>Comedy, Romance</td>\n",
       "      <td>4.4</td>\n",
       "      <td>35</td>\n",
       "      <td>Ovais Khan</td>\n",
       "      <td>Prateik</td>\n",
       "      <td>Ishita Raj</td>\n",
       "      <td>Siddhant Kapoor</td>\n",
       "    </tr>\n",
       "    <tr>\n",
       "      <th>5</th>\n",
       "      <td>...Aur Pyaar Ho Gaya</td>\n",
       "      <td>1997</td>\n",
       "      <td>147</td>\n",
       "      <td>Comedy, Drama, Musical</td>\n",
       "      <td>4.7</td>\n",
       "      <td>827</td>\n",
       "      <td>Rahul Rawail</td>\n",
       "      <td>Bobby Deol</td>\n",
       "      <td>Aishwarya Rai Bachchan</td>\n",
       "      <td>Shammi Kapoor</td>\n",
       "    </tr>\n",
       "    <tr>\n",
       "      <th>6</th>\n",
       "      <td>...Yahaan</td>\n",
       "      <td>2005</td>\n",
       "      <td>142</td>\n",
       "      <td>Drama, Romance, War</td>\n",
       "      <td>7.4</td>\n",
       "      <td>1086</td>\n",
       "      <td>Shoojit Sircar</td>\n",
       "      <td>Jimmy Sheirgill</td>\n",
       "      <td>Minissha Lamba</td>\n",
       "      <td>Yashpal Sharma</td>\n",
       "    </tr>\n",
       "    <tr>\n",
       "      <th>8</th>\n",
       "      <td>?: A Question Mark</td>\n",
       "      <td>2012</td>\n",
       "      <td>82</td>\n",
       "      <td>Horror, Mystery, Thriller</td>\n",
       "      <td>5.6</td>\n",
       "      <td>326</td>\n",
       "      <td>Allyson Patel</td>\n",
       "      <td>Yash Dave</td>\n",
       "      <td>Muntazir Ahmad</td>\n",
       "      <td>Kiran Bhatia</td>\n",
       "    </tr>\n",
       "    <tr>\n",
       "      <th>9</th>\n",
       "      <td>@Andheri</td>\n",
       "      <td>2014</td>\n",
       "      <td>116</td>\n",
       "      <td>Action, Crime, Thriller</td>\n",
       "      <td>4.0</td>\n",
       "      <td>11</td>\n",
       "      <td>Biju Bhaskar Nair</td>\n",
       "      <td>Augustine</td>\n",
       "      <td>Fathima Babu</td>\n",
       "      <td>Byon</td>\n",
       "    </tr>\n",
       "    <tr>\n",
       "      <th>10</th>\n",
       "      <td>1:1.6 An Ode to Lost Love</td>\n",
       "      <td>2004</td>\n",
       "      <td>96</td>\n",
       "      <td>Drama</td>\n",
       "      <td>6.2</td>\n",
       "      <td>17</td>\n",
       "      <td>Madhu Ambat</td>\n",
       "      <td>Rati Agnihotri</td>\n",
       "      <td>Gulshan Grover</td>\n",
       "      <td>Atul Kulkarni</td>\n",
       "    </tr>\n",
       "    <tr>\n",
       "      <th>11</th>\n",
       "      <td>1:13:7 Ek Tera Saath</td>\n",
       "      <td>2016</td>\n",
       "      <td>120</td>\n",
       "      <td>Horror</td>\n",
       "      <td>5.9</td>\n",
       "      <td>59</td>\n",
       "      <td>Arshad Siddiqui</td>\n",
       "      <td>Pankaj Berry</td>\n",
       "      <td>Anubhav Dhir</td>\n",
       "      <td>Hritu Dudani</td>\n",
       "    </tr>\n",
       "    <tr>\n",
       "      <th>12</th>\n",
       "      <td>100 Days</td>\n",
       "      <td>1991</td>\n",
       "      <td>161</td>\n",
       "      <td>Horror, Romance, Thriller</td>\n",
       "      <td>6.5</td>\n",
       "      <td>983</td>\n",
       "      <td>Partho Ghosh</td>\n",
       "      <td>Jackie Shroff</td>\n",
       "      <td>Madhuri Dixit</td>\n",
       "      <td>Javed Jaffrey</td>\n",
       "    </tr>\n",
       "    <tr>\n",
       "      <th>13</th>\n",
       "      <td>100% Love</td>\n",
       "      <td>2012</td>\n",
       "      <td>166</td>\n",
       "      <td>Comedy, Drama, Romance</td>\n",
       "      <td>5.7</td>\n",
       "      <td>512</td>\n",
       "      <td>Rabi Kinagi</td>\n",
       "      <td>Jeet</td>\n",
       "      <td>Koyel Mallick</td>\n",
       "      <td>Sujoy Ghosh</td>\n",
       "    </tr>\n",
       "    <tr>\n",
       "      <th>15</th>\n",
       "      <td>102 Not Out</td>\n",
       "      <td>2018</td>\n",
       "      <td>102</td>\n",
       "      <td>Comedy, Drama</td>\n",
       "      <td>7.4</td>\n",
       "      <td>6619</td>\n",
       "      <td>Umesh Shukla</td>\n",
       "      <td>Amitabh Bachchan</td>\n",
       "      <td>Rishi Kapoor</td>\n",
       "      <td>Vijay Raaz</td>\n",
       "    </tr>\n",
       "    <tr>\n",
       "      <th>18</th>\n",
       "      <td>10ml LOVE</td>\n",
       "      <td>2010</td>\n",
       "      <td>87</td>\n",
       "      <td>Comedy, Drama, Romance</td>\n",
       "      <td>6.3</td>\n",
       "      <td>162</td>\n",
       "      <td>Sharat Katariya</td>\n",
       "      <td>Neil Bhoopalam</td>\n",
       "      <td>Anusha Bose</td>\n",
       "      <td>Manu Rishi Chadha</td>\n",
       "    </tr>\n",
       "    <tr>\n",
       "      <th>21</th>\n",
       "      <td>12 O'Clock</td>\n",
       "      <td>1958</td>\n",
       "      <td>132</td>\n",
       "      <td>Crime, Drama, Mystery</td>\n",
       "      <td>7.2</td>\n",
       "      <td>72</td>\n",
       "      <td>Pramod Chakravorty</td>\n",
       "      <td>Guru Dutt</td>\n",
       "      <td>Waheeda Rehman</td>\n",
       "      <td>Shashikala</td>\n",
       "    </tr>\n",
       "    <tr>\n",
       "      <th>22</th>\n",
       "      <td>12 O'Clock</td>\n",
       "      <td>2021</td>\n",
       "      <td>105</td>\n",
       "      <td>Horror, Thriller</td>\n",
       "      <td>4.4</td>\n",
       "      <td>63</td>\n",
       "      <td>Ram Gopal Varma</td>\n",
       "      <td>Mithun Chakraborty</td>\n",
       "      <td>Makrand Deshpande</td>\n",
       "      <td>Dalip Tahil</td>\n",
       "    </tr>\n",
       "    <tr>\n",
       "      <th>25</th>\n",
       "      <td>127 B</td>\n",
       "      <td>2017</td>\n",
       "      <td>116</td>\n",
       "      <td>Comedy, Horror</td>\n",
       "      <td>6.6</td>\n",
       "      <td>26</td>\n",
       "      <td>Seshu Kmr</td>\n",
       "      <td>Mast Ali</td>\n",
       "      <td>Aziz Naser</td>\n",
       "      <td>Heena Shaik</td>\n",
       "    </tr>\n",
       "    <tr>\n",
       "      <th>28</th>\n",
       "      <td>13B: Fear Has a New Address</td>\n",
       "      <td>2009</td>\n",
       "      <td>146</td>\n",
       "      <td>Drama, Horror, Mystery</td>\n",
       "      <td>7.3</td>\n",
       "      <td>6329</td>\n",
       "      <td>Vikram K. Kumar</td>\n",
       "      <td>Madhavan</td>\n",
       "      <td>Neetu Chandra</td>\n",
       "      <td>Poonam Dhillon</td>\n",
       "    </tr>\n",
       "  </tbody>\n",
       "</table>\n",
       "</div>"
      ],
      "text/plain": [
       "                                  Name  Year  Duration  \\\n",
       "1   #Gadhvi (He thought he was Gandhi)  2019       109   \n",
       "3                              #Yaaram  2019       110   \n",
       "5                 ...Aur Pyaar Ho Gaya  1997       147   \n",
       "6                            ...Yahaan  2005       142   \n",
       "8                   ?: A Question Mark  2012        82   \n",
       "9                             @Andheri  2014       116   \n",
       "10           1:1.6 An Ode to Lost Love  2004        96   \n",
       "11                1:13:7 Ek Tera Saath  2016       120   \n",
       "12                            100 Days  1991       161   \n",
       "13                           100% Love  2012       166   \n",
       "15                         102 Not Out  2018       102   \n",
       "18                           10ml LOVE  2010        87   \n",
       "21                          12 O'Clock  1958       132   \n",
       "22                          12 O'Clock  2021       105   \n",
       "25                               127 B  2017       116   \n",
       "28         13B: Fear Has a New Address  2009       146   \n",
       "\n",
       "                        Genre  Rating  Votes            Director  \\\n",
       "1                       Drama     7.0      8       Gaurav Bakshi   \n",
       "3             Comedy, Romance     4.4     35          Ovais Khan   \n",
       "5      Comedy, Drama, Musical     4.7    827        Rahul Rawail   \n",
       "6         Drama, Romance, War     7.4   1086      Shoojit Sircar   \n",
       "8   Horror, Mystery, Thriller     5.6    326       Allyson Patel   \n",
       "9     Action, Crime, Thriller     4.0     11   Biju Bhaskar Nair   \n",
       "10                      Drama     6.2     17         Madhu Ambat   \n",
       "11                     Horror     5.9     59     Arshad Siddiqui   \n",
       "12  Horror, Romance, Thriller     6.5    983        Partho Ghosh   \n",
       "13     Comedy, Drama, Romance     5.7    512         Rabi Kinagi   \n",
       "15              Comedy, Drama     7.4   6619        Umesh Shukla   \n",
       "18     Comedy, Drama, Romance     6.3    162     Sharat Katariya   \n",
       "21      Crime, Drama, Mystery     7.2     72  Pramod Chakravorty   \n",
       "22           Horror, Thriller     4.4     63     Ram Gopal Varma   \n",
       "25             Comedy, Horror     6.6     26           Seshu Kmr   \n",
       "28     Drama, Horror, Mystery     7.3   6329     Vikram K. Kumar   \n",
       "\n",
       "               Actor 1                 Actor 2            Actor 3  \n",
       "1         Rasika Dugal          Vivek Ghamande      Arvind Jangid  \n",
       "3              Prateik              Ishita Raj    Siddhant Kapoor  \n",
       "5           Bobby Deol  Aishwarya Rai Bachchan      Shammi Kapoor  \n",
       "6      Jimmy Sheirgill          Minissha Lamba     Yashpal Sharma  \n",
       "8            Yash Dave          Muntazir Ahmad       Kiran Bhatia  \n",
       "9            Augustine            Fathima Babu               Byon  \n",
       "10      Rati Agnihotri          Gulshan Grover      Atul Kulkarni  \n",
       "11        Pankaj Berry            Anubhav Dhir       Hritu Dudani  \n",
       "12       Jackie Shroff           Madhuri Dixit      Javed Jaffrey  \n",
       "13                Jeet           Koyel Mallick        Sujoy Ghosh  \n",
       "15    Amitabh Bachchan            Rishi Kapoor         Vijay Raaz  \n",
       "18      Neil Bhoopalam             Anusha Bose  Manu Rishi Chadha  \n",
       "21           Guru Dutt          Waheeda Rehman         Shashikala  \n",
       "22  Mithun Chakraborty       Makrand Deshpande        Dalip Tahil  \n",
       "25            Mast Ali              Aziz Naser        Heena Shaik  \n",
       "28            Madhavan           Neetu Chandra     Poonam Dhillon  "
      ]
     },
     "execution_count": 172,
     "metadata": {},
     "output_type": "execute_result"
    }
   ],
   "source": [
    "Q1 = movie_file['Rating'].quantile(0.25)\n",
    "Q3 = movie_file['Rating'].quantile(0.75)\n",
    "IQR = Q3 - Q1\n",
    "lower_bound = Q1 - 1.5 * IQR\n",
    "upper_bound = Q3 + 1.5 * IQR\n",
    "movie_file = movie_file[(movie_file['Rating'] >= lower_bound) & (movie_file['Rating'] <= upper_bound)]\n",
    "movie_file.head(16)"
   ]
  },
  {
   "cell_type": "code",
   "execution_count": 173,
   "id": "bdcfee39",
   "metadata": {},
   "outputs": [
    {
     "data": {
      "image/png": "[encoded data removed]",
      "text/plain": [
       "<Figure size 1000x600 with 1 Axes>"
      ]
     },
     "metadata": {},
     "output_type": "display_data"
    }
   ],
   "source": [
    "rating_votes = movie_file.groupby('Rating')['Votes'].sum().reset_index()\n",
    "mpl.figure(figsize=(10, 6))\n",
    "ax_line_seaborn = sb.lineplot(data=rating_votes, x='Rating', y='Votes', marker='o')\n",
    "ax_line_seaborn.set_xlabel('Rating')\n",
    "ax_line_seaborn.set_ylabel('Total Votes')\n",
    "ax_line_seaborn.set_title('Total Votes per Rating')\n",
    "plt.show()"
   ]
  },
  {
   "cell_type": "code",
   "execution_count": 174,
   "id": "0d386e67",
   "metadata": {},
   "outputs": [
    {
     "data": {
      "image/png": "[encoded data removed]",
      "text/plain": [
       "<Figure size 640x480 with 1 Axes>"
      ]
     },
     "metadata": {},
     "output_type": "display_data"
    }
   ],
   "source": [
    "ax = sb.barplot(x=directors.head(20).index, y=directors.head(20).values, palette='viridis')\n",
    "ax.set_ylabel(\"Frequency of Movies\")\n",
    "ax.set_title(\"Top 20 Directors by Frequency of Movies\")\n",
    "ax.set_xticklabels(ax.get_xticklabels(), rotation=90)\n",
    "plt.show()"
   ]
  },
  {
   "cell_type": "code",
   "execution_count": 175,
   "id": "38575c63",
   "metadata": {},
   "outputs": [
    {
     "data": {
      "image/png": "[encoded data removed]",
      "text/plain": [
       "<Figure size 1000x600 with 1 Axes>"
      ]
     },
     "metadata": {},
     "output_type": "display_data"
    }
   ],
   "source": [
    "plt.figure(figsize=(10, 6))\n",
    "ax = sb.barplot(x=actors.head(20).index, y=actors.head(20).values, palette='viridis')\n",
    "ax.set_xlabel('Actors')\n",
    "ax.set_ylabel('Total Number of Movies')\n",
    "ax.set_title('Top 20 Actors with Total Number of Movies')\n",
    "ax.set_xticklabels(ax.get_xticklabels(), rotation=90)\n",
    "plt.show()"
   ]
  },
  {
   "cell_type": "code",
   "execution_count": 176,
   "id": "f5084303",
   "metadata": {},
   "outputs": [
    {
     "name": "stderr",
     "output_type": "stream",
     "text": [
      "C:\\Users\\Hp\\AppData\\Local\\Temp\\ipykernel_19828\\1713399763.py:1: SettingWithCopyWarning:\n",
      "\n",
      "\n",
      "A value is trying to be set on a copy of a slice from a DataFrame.\n",
      "Try using .loc[row_indexer,col_indexer] = value instead\n",
      "\n",
      "See the caveats in the documentation: https://pandas.pydata.org/pandas-docs/stable/user_guide/indexing.html#returning-a-view-versus-a-copy\n",
      "\n",
      "C:\\Users\\Hp\\AppData\\Local\\Temp\\ipykernel_19828\\1713399763.py:2: SettingWithCopyWarning:\n",
      "\n",
      "\n",
      "A value is trying to be set on a copy of a slice from a DataFrame.\n",
      "Try using .loc[row_indexer,col_indexer] = value instead\n",
      "\n",
      "See the caveats in the documentation: https://pandas.pydata.org/pandas-docs/stable/user_guide/indexing.html#returning-a-view-versus-a-copy\n",
      "\n",
      "C:\\Users\\Hp\\AppData\\Local\\Temp\\ipykernel_19828\\1713399763.py:3: SettingWithCopyWarning:\n",
      "\n",
      "\n",
      "A value is trying to be set on a copy of a slice from a DataFrame.\n",
      "Try using .loc[row_indexer,col_indexer] = value instead\n",
      "\n",
      "See the caveats in the documentation: https://pandas.pydata.org/pandas-docs/stable/user_guide/indexing.html#returning-a-view-versus-a-copy\n",
      "\n",
      "C:\\Users\\Hp\\AppData\\Local\\Temp\\ipykernel_19828\\1713399763.py:4: SettingWithCopyWarning:\n",
      "\n",
      "\n",
      "A value is trying to be set on a copy of a slice from a DataFrame.\n",
      "Try using .loc[row_indexer,col_indexer] = value instead\n",
      "\n",
      "See the caveats in the documentation: https://pandas.pydata.org/pandas-docs/stable/user_guide/indexing.html#returning-a-view-versus-a-copy\n",
      "\n"
     ]
    }
   ],
   "source": [
    "movie_file[\"Actor\"] = movie_file['Actor 1'] + ', ' + movie_file['Actor 2'] + ', ' + movie_file['Actor 3']\n",
    "movie_file[\"Directors\"] = movie_file['Director'].astype('category').cat.codes\n",
    "movie_file[\"Genres\"] = movie_file['Genre'].astype('category').cat.codes\n",
    "movie_file[\"Actors\"] = movie_file['Actor'].astype('category').cat.codes"
   ]
  },
  {
   "cell_type": "code",
   "execution_count": 177,
   "id": "eb450275",
   "metadata": {},
   "outputs": [
    {
     "data": {
      "text/html": [
       "<div>\n",
       "<style scoped>\n",
       "    .dataframe tbody tr th:only-of-type {\n",
       "        vertical-align: middle;\n",
       "    }\n",
       "\n",
       "    .dataframe tbody tr th {\n",
       "        vertical-align: top;\n",
       "    }\n",
       "\n",
       "    .dataframe thead th {\n",
       "        text-align: right;\n",
       "    }\n",
       "</style>\n",
       "<table border=\"1\" class=\"dataframe\">\n",
       "  <thead>\n",
       "    <tr style=\"text-align: right;\">\n",
       "      <th></th>\n",
       "      <th>Name</th>\n",
       "      <th>Year</th>\n",
       "      <th>Duration</th>\n",
       "      <th>Genre</th>\n",
       "      <th>Rating</th>\n",
       "      <th>Votes</th>\n",
       "      <th>Director</th>\n",
       "      <th>Actor 1</th>\n",
       "      <th>Actor 2</th>\n",
       "      <th>Actor 3</th>\n",
       "      <th>Actor</th>\n",
       "      <th>Directors</th>\n",
       "      <th>Genres</th>\n",
       "      <th>Actors</th>\n",
       "    </tr>\n",
       "  </thead>\n",
       "  <tbody>\n",
       "    <tr>\n",
       "      <th>1</th>\n",
       "      <td>#Gadhvi (He thought he was Gandhi)</td>\n",
       "      <td>2019</td>\n",
       "      <td>109</td>\n",
       "      <td>Drama</td>\n",
       "      <td>7.0</td>\n",
       "      <td>8</td>\n",
       "      <td>Gaurav Bakshi</td>\n",
       "      <td>Rasika Dugal</td>\n",
       "      <td>Vivek Ghamande</td>\n",
       "      <td>Arvind Jangid</td>\n",
       "      <td>Rasika Dugal, Vivek Ghamande, Arvind Jangid</td>\n",
       "      <td>629</td>\n",
       "      <td>229</td>\n",
       "      <td>3858</td>\n",
       "    </tr>\n",
       "    <tr>\n",
       "      <th>3</th>\n",
       "      <td>#Yaaram</td>\n",
       "      <td>2019</td>\n",
       "      <td>110</td>\n",
       "      <td>Comedy, Romance</td>\n",
       "      <td>4.4</td>\n",
       "      <td>35</td>\n",
       "      <td>Ovais Khan</td>\n",
       "      <td>Prateik</td>\n",
       "      <td>Ishita Raj</td>\n",
       "      <td>Siddhant Kapoor</td>\n",
       "      <td>Prateik, Ishita Raj, Siddhant Kapoor</td>\n",
       "      <td>1334</td>\n",
       "      <td>184</td>\n",
       "      <td>3326</td>\n",
       "    </tr>\n",
       "    <tr>\n",
       "      <th>5</th>\n",
       "      <td>...Aur Pyaar Ho Gaya</td>\n",
       "      <td>1997</td>\n",
       "      <td>147</td>\n",
       "      <td>Comedy, Drama, Musical</td>\n",
       "      <td>4.7</td>\n",
       "      <td>827</td>\n",
       "      <td>Rahul Rawail</td>\n",
       "      <td>Bobby Deol</td>\n",
       "      <td>Aishwarya Rai Bachchan</td>\n",
       "      <td>Shammi Kapoor</td>\n",
       "      <td>Bobby Deol, Aishwarya Rai Bachchan, Shammi Kapoor</td>\n",
       "      <td>1527</td>\n",
       "      <td>157</td>\n",
       "      <td>1112</td>\n",
       "    </tr>\n",
       "    <tr>\n",
       "      <th>6</th>\n",
       "      <td>...Yahaan</td>\n",
       "      <td>2005</td>\n",
       "      <td>142</td>\n",
       "      <td>Drama, Romance, War</td>\n",
       "      <td>7.4</td>\n",
       "      <td>1086</td>\n",
       "      <td>Shoojit Sircar</td>\n",
       "      <td>Jimmy Sheirgill</td>\n",
       "      <td>Minissha Lamba</td>\n",
       "      <td>Yashpal Sharma</td>\n",
       "      <td>Jimmy Sheirgill, Minissha Lamba, Yashpal Sharma</td>\n",
       "      <td>2037</td>\n",
       "      <td>289</td>\n",
       "      <td>2075</td>\n",
       "    </tr>\n",
       "    <tr>\n",
       "      <th>8</th>\n",
       "      <td>?: A Question Mark</td>\n",
       "      <td>2012</td>\n",
       "      <td>82</td>\n",
       "      <td>Horror, Mystery, Thriller</td>\n",
       "      <td>5.6</td>\n",
       "      <td>326</td>\n",
       "      <td>Allyson Patel</td>\n",
       "      <td>Yash Dave</td>\n",
       "      <td>Muntazir Ahmad</td>\n",
       "      <td>Kiran Bhatia</td>\n",
       "      <td>Yash Dave, Muntazir Ahmad, Kiran Bhatia</td>\n",
       "      <td>135</td>\n",
       "      <td>320</td>\n",
       "      <td>5535</td>\n",
       "    </tr>\n",
       "    <tr>\n",
       "      <th>9</th>\n",
       "      <td>@Andheri</td>\n",
       "      <td>2014</td>\n",
       "      <td>116</td>\n",
       "      <td>Action, Crime, Thriller</td>\n",
       "      <td>4.0</td>\n",
       "      <td>11</td>\n",
       "      <td>Biju Bhaskar Nair</td>\n",
       "      <td>Augustine</td>\n",
       "      <td>Fathima Babu</td>\n",
       "      <td>Byon</td>\n",
       "      <td>Augustine, Fathima Babu, Byon</td>\n",
       "      <td>401</td>\n",
       "      <td>37</td>\n",
       "      <td>967</td>\n",
       "    </tr>\n",
       "    <tr>\n",
       "      <th>10</th>\n",
       "      <td>1:1.6 An Ode to Lost Love</td>\n",
       "      <td>2004</td>\n",
       "      <td>96</td>\n",
       "      <td>Drama</td>\n",
       "      <td>6.2</td>\n",
       "      <td>17</td>\n",
       "      <td>Madhu Ambat</td>\n",
       "      <td>Rati Agnihotri</td>\n",
       "      <td>Gulshan Grover</td>\n",
       "      <td>Atul Kulkarni</td>\n",
       "      <td>Rati Agnihotri, Gulshan Grover, Atul Kulkarni</td>\n",
       "      <td>1083</td>\n",
       "      <td>229</td>\n",
       "      <td>3863</td>\n",
       "    </tr>\n",
       "    <tr>\n",
       "      <th>11</th>\n",
       "      <td>1:13:7 Ek Tera Saath</td>\n",
       "      <td>2016</td>\n",
       "      <td>120</td>\n",
       "      <td>Horror</td>\n",
       "      <td>5.9</td>\n",
       "      <td>59</td>\n",
       "      <td>Arshad Siddiqui</td>\n",
       "      <td>Pankaj Berry</td>\n",
       "      <td>Anubhav Dhir</td>\n",
       "      <td>Hritu Dudani</td>\n",
       "      <td>Pankaj Berry, Anubhav Dhir, Hritu Dudani</td>\n",
       "      <td>266</td>\n",
       "      <td>316</td>\n",
       "      <td>3213</td>\n",
       "    </tr>\n",
       "    <tr>\n",
       "      <th>12</th>\n",
       "      <td>100 Days</td>\n",
       "      <td>1991</td>\n",
       "      <td>161</td>\n",
       "      <td>Horror, Romance, Thriller</td>\n",
       "      <td>6.5</td>\n",
       "      <td>983</td>\n",
       "      <td>Partho Ghosh</td>\n",
       "      <td>Jackie Shroff</td>\n",
       "      <td>Madhuri Dixit</td>\n",
       "      <td>Javed Jaffrey</td>\n",
       "      <td>Jackie Shroff, Madhuri Dixit, Javed Jaffrey</td>\n",
       "      <td>1373</td>\n",
       "      <td>323</td>\n",
       "      <td>1890</td>\n",
       "    </tr>\n",
       "    <tr>\n",
       "      <th>13</th>\n",
       "      <td>100% Love</td>\n",
       "      <td>2012</td>\n",
       "      <td>166</td>\n",
       "      <td>Comedy, Drama, Romance</td>\n",
       "      <td>5.7</td>\n",
       "      <td>512</td>\n",
       "      <td>Rabi Kinagi</td>\n",
       "      <td>Jeet</td>\n",
       "      <td>Koyel Mallick</td>\n",
       "      <td>Sujoy Ghosh</td>\n",
       "      <td>Jeet, Koyel Mallick, Sujoy Ghosh</td>\n",
       "      <td>1503</td>\n",
       "      <td>159</td>\n",
       "      <td>1971</td>\n",
       "    </tr>\n",
       "    <tr>\n",
       "      <th>15</th>\n",
       "      <td>102 Not Out</td>\n",
       "      <td>2018</td>\n",
       "      <td>102</td>\n",
       "      <td>Comedy, Drama</td>\n",
       "      <td>7.4</td>\n",
       "      <td>6619</td>\n",
       "      <td>Umesh Shukla</td>\n",
       "      <td>Amitabh Bachchan</td>\n",
       "      <td>Rishi Kapoor</td>\n",
       "      <td>Vijay Raaz</td>\n",
       "      <td>Amitabh Bachchan, Rishi Kapoor, Vijay Raaz</td>\n",
       "      <td>2270</td>\n",
       "      <td>151</td>\n",
       "      <td>508</td>\n",
       "    </tr>\n",
       "    <tr>\n",
       "      <th>18</th>\n",
       "      <td>10ml LOVE</td>\n",
       "      <td>2010</td>\n",
       "      <td>87</td>\n",
       "      <td>Comedy, Drama, Romance</td>\n",
       "      <td>6.3</td>\n",
       "      <td>162</td>\n",
       "      <td>Sharat Katariya</td>\n",
       "      <td>Neil Bhoopalam</td>\n",
       "      <td>Anusha Bose</td>\n",
       "      <td>Manu Rishi Chadha</td>\n",
       "      <td>Neil Bhoopalam, Anusha Bose, Manu Rishi Chadha</td>\n",
       "      <td>1990</td>\n",
       "      <td>159</td>\n",
       "      <td>3113</td>\n",
       "    </tr>\n",
       "    <tr>\n",
       "      <th>21</th>\n",
       "      <td>12 O'Clock</td>\n",
       "      <td>1958</td>\n",
       "      <td>132</td>\n",
       "      <td>Crime, Drama, Mystery</td>\n",
       "      <td>7.2</td>\n",
       "      <td>72</td>\n",
       "      <td>Pramod Chakravorty</td>\n",
       "      <td>Guru Dutt</td>\n",
       "      <td>Waheeda Rehman</td>\n",
       "      <td>Shashikala</td>\n",
       "      <td>Guru Dutt, Waheeda Rehman, Shashikala</td>\n",
       "      <td>1425</td>\n",
       "      <td>199</td>\n",
       "      <td>1716</td>\n",
       "    </tr>\n",
       "    <tr>\n",
       "      <th>22</th>\n",
       "      <td>12 O'Clock</td>\n",
       "      <td>2021</td>\n",
       "      <td>105</td>\n",
       "      <td>Horror, Thriller</td>\n",
       "      <td>4.4</td>\n",
       "      <td>63</td>\n",
       "      <td>Ram Gopal Varma</td>\n",
       "      <td>Mithun Chakraborty</td>\n",
       "      <td>Makrand Deshpande</td>\n",
       "      <td>Dalip Tahil</td>\n",
       "      <td>Mithun Chakraborty, Makrand Deshpande, Dalip T...</td>\n",
       "      <td>1637</td>\n",
       "      <td>325</td>\n",
       "      <td>2768</td>\n",
       "    </tr>\n",
       "    <tr>\n",
       "      <th>25</th>\n",
       "      <td>127 B</td>\n",
       "      <td>2017</td>\n",
       "      <td>116</td>\n",
       "      <td>Comedy, Horror</td>\n",
       "      <td>6.6</td>\n",
       "      <td>26</td>\n",
       "      <td>Seshu Kmr</td>\n",
       "      <td>Mast Ali</td>\n",
       "      <td>Aziz Naser</td>\n",
       "      <td>Heena Shaik</td>\n",
       "      <td>Mast Ali, Aziz Naser, Heena Shaik</td>\n",
       "      <td>1948</td>\n",
       "      <td>171</td>\n",
       "      <td>2637</td>\n",
       "    </tr>\n",
       "    <tr>\n",
       "      <th>28</th>\n",
       "      <td>13B: Fear Has a New Address</td>\n",
       "      <td>2009</td>\n",
       "      <td>146</td>\n",
       "      <td>Drama, Horror, Mystery</td>\n",
       "      <td>7.3</td>\n",
       "      <td>6329</td>\n",
       "      <td>Vikram K. Kumar</td>\n",
       "      <td>Madhavan</td>\n",
       "      <td>Neetu Chandra</td>\n",
       "      <td>Poonam Dhillon</td>\n",
       "      <td>Madhavan, Neetu Chandra, Poonam Dhillon</td>\n",
       "      <td>2340</td>\n",
       "      <td>268</td>\n",
       "      <td>2463</td>\n",
       "    </tr>\n",
       "  </tbody>\n",
       "</table>\n",
       "</div>"
      ],
      "text/plain": [
       "                                  Name  Year  Duration  \\\n",
       "1   #Gadhvi (He thought he was Gandhi)  2019       109   \n",
       "3                              #Yaaram  2019       110   \n",
       "5                 ...Aur Pyaar Ho Gaya  1997       147   \n",
       "6                            ...Yahaan  2005       142   \n",
       "8                   ?: A Question Mark  2012        82   \n",
       "9                             @Andheri  2014       116   \n",
       "10           1:1.6 An Ode to Lost Love  2004        96   \n",
       "11                1:13:7 Ek Tera Saath  2016       120   \n",
       "12                            100 Days  1991       161   \n",
       "13                           100% Love  2012       166   \n",
       "15                         102 Not Out  2018       102   \n",
       "18                           10ml LOVE  2010        87   \n",
       "21                          12 O'Clock  1958       132   \n",
       "22                          12 O'Clock  2021       105   \n",
       "25                               127 B  2017       116   \n",
       "28         13B: Fear Has a New Address  2009       146   \n",
       "\n",
       "                        Genre  Rating  Votes            Director  \\\n",
       "1                       Drama     7.0      8       Gaurav Bakshi   \n",
       "3             Comedy, Romance     4.4     35          Ovais Khan   \n",
       "5      Comedy, Drama, Musical     4.7    827        Rahul Rawail   \n",
       "6         Drama, Romance, War     7.4   1086      Shoojit Sircar   \n",
       "8   Horror, Mystery, Thriller     5.6    326       Allyson Patel   \n",
       "9     Action, Crime, Thriller     4.0     11   Biju Bhaskar Nair   \n",
       "10                      Drama     6.2     17         Madhu Ambat   \n",
       "11                     Horror     5.9     59     Arshad Siddiqui   \n",
       "12  Horror, Romance, Thriller     6.5    983        Partho Ghosh   \n",
       "13     Comedy, Drama, Romance     5.7    512         Rabi Kinagi   \n",
       "15              Comedy, Drama     7.4   6619        Umesh Shukla   \n",
       "18     Comedy, Drama, Romance     6.3    162     Sharat Katariya   \n",
       "21      Crime, Drama, Mystery     7.2     72  Pramod Chakravorty   \n",
       "22           Horror, Thriller     4.4     63     Ram Gopal Varma   \n",
       "25             Comedy, Horror     6.6     26           Seshu Kmr   \n",
       "28     Drama, Horror, Mystery     7.3   6329     Vikram K. Kumar   \n",
       "\n",
       "               Actor 1                 Actor 2            Actor 3  \\\n",
       "1         Rasika Dugal          Vivek Ghamande      Arvind Jangid   \n",
       "3              Prateik              Ishita Raj    Siddhant Kapoor   \n",
       "5           Bobby Deol  Aishwarya Rai Bachchan      Shammi Kapoor   \n",
       "6      Jimmy Sheirgill          Minissha Lamba     Yashpal Sharma   \n",
       "8            Yash Dave          Muntazir Ahmad       Kiran Bhatia   \n",
       "9            Augustine            Fathima Babu               Byon   \n",
       "10      Rati Agnihotri          Gulshan Grover      Atul Kulkarni   \n",
       "11        Pankaj Berry            Anubhav Dhir       Hritu Dudani   \n",
       "12       Jackie Shroff           Madhuri Dixit      Javed Jaffrey   \n",
       "13                Jeet           Koyel Mallick        Sujoy Ghosh   \n",
       "15    Amitabh Bachchan            Rishi Kapoor         Vijay Raaz   \n",
       "18      Neil Bhoopalam             Anusha Bose  Manu Rishi Chadha   \n",
       "21           Guru Dutt          Waheeda Rehman         Shashikala   \n",
       "22  Mithun Chakraborty       Makrand Deshpande        Dalip Tahil   \n",
       "25            Mast Ali              Aziz Naser        Heena Shaik   \n",
       "28            Madhavan           Neetu Chandra     Poonam Dhillon   \n",
       "\n",
       "                                                Actor  Directors  Genres  \\\n",
       "1         Rasika Dugal, Vivek Ghamande, Arvind Jangid        629     229   \n",
       "3                Prateik, Ishita Raj, Siddhant Kapoor       1334     184   \n",
       "5   Bobby Deol, Aishwarya Rai Bachchan, Shammi Kapoor       1527     157   \n",
       "6     Jimmy Sheirgill, Minissha Lamba, Yashpal Sharma       2037     289   \n",
       "8             Yash Dave, Muntazir Ahmad, Kiran Bhatia        135     320   \n",
       "9                       Augustine, Fathima Babu, Byon        401      37   \n",
       "10      Rati Agnihotri, Gulshan Grover, Atul Kulkarni       1083     229   \n",
       "11           Pankaj Berry, Anubhav Dhir, Hritu Dudani        266     316   \n",
       "12        Jackie Shroff, Madhuri Dixit, Javed Jaffrey       1373     323   \n",
       "13                   Jeet, Koyel Mallick, Sujoy Ghosh       1503     159   \n",
       "15         Amitabh Bachchan, Rishi Kapoor, Vijay Raaz       2270     151   \n",
       "18     Neil Bhoopalam, Anusha Bose, Manu Rishi Chadha       1990     159   \n",
       "21              Guru Dutt, Waheeda Rehman, Shashikala       1425     199   \n",
       "22  Mithun Chakraborty, Makrand Deshpande, Dalip T...       1637     325   \n",
       "25                  Mast Ali, Aziz Naser, Heena Shaik       1948     171   \n",
       "28            Madhavan, Neetu Chandra, Poonam Dhillon       2340     268   \n",
       "\n",
       "    Actors  \n",
       "1     3858  \n",
       "3     3326  \n",
       "5     1112  \n",
       "6     2075  \n",
       "8     5535  \n",
       "9      967  \n",
       "10    3863  \n",
       "11    3213  \n",
       "12    1890  \n",
       "13    1971  \n",
       "15     508  \n",
       "18    3113  \n",
       "21    1716  \n",
       "22    2768  \n",
       "25    2637  \n",
       "28    2463  "
      ]
     },
     "execution_count": 177,
     "metadata": {},
     "output_type": "execute_result"
    }
   ],
   "source": [
    "movie_file.head(16)"
   ]
  },
  {
   "cell_type": "code",
   "execution_count": 178,
   "id": "bf9e95b8",
   "metadata": {},
   "outputs": [
    {
     "data": {
      "image/png": "[encoded data removed]",
      "text/plain": [
       "<Figure size 640x480 with 1 Axes>"
      ]
     },
     "metadata": {},
     "output_type": "display_data"
    }
   ],
   "source": [
    "ax = sb.boxplot(data=movie_file, y='Genres')\n",
    "ax.set_ylabel('Genres')\n",
    "ax.set_title('Box Plot of Genres')\n",
    "plt.show()"
   ]
  },
  {
   "cell_type": "code",
   "execution_count": 179,
   "id": "cb5f558d",
   "metadata": {},
   "outputs": [],
   "source": [
    "Q1 = movie_file['Genres'].quantile(0.25)\n",
    "Q3 = movie_file['Genres'].quantile(0.75)\n",
    "IQR = Q3 - Q1\n",
    "lower_bound = Q1 - 1.5 * IQR\n",
    "upper_bound = Q3 + 1.5 * IQR\n",
    "movie_file = movie_file[(movie_file['Genres'] >= lower_bound) & (movie_file['Genres'] <= upper_bound)]"
   ]
  },
  {
   "cell_type": "code",
   "execution_count": 180,
   "id": "41bd4117",
   "metadata": {},
   "outputs": [
    {
     "data": {
      "text/html": [
       "<div>\n",
       "<style scoped>\n",
       "    .dataframe tbody tr th:only-of-type {\n",
       "        vertical-align: middle;\n",
       "    }\n",
       "\n",
       "    .dataframe tbody tr th {\n",
       "        vertical-align: top;\n",
       "    }\n",
       "\n",
       "    .dataframe thead th {\n",
       "        text-align: right;\n",
       "    }\n",
       "</style>\n",
       "<table border=\"1\" class=\"dataframe\">\n",
       "  <thead>\n",
       "    <tr style=\"text-align: right;\">\n",
       "      <th></th>\n",
       "      <th>Name</th>\n",
       "      <th>Year</th>\n",
       "      <th>Duration</th>\n",
       "      <th>Genre</th>\n",
       "      <th>Rating</th>\n",
       "      <th>Votes</th>\n",
       "      <th>Director</th>\n",
       "      <th>Actor 1</th>\n",
       "      <th>Actor 2</th>\n",
       "      <th>Actor 3</th>\n",
       "      <th>Actor</th>\n",
       "      <th>Directors</th>\n",
       "      <th>Genres</th>\n",
       "      <th>Actors</th>\n",
       "    </tr>\n",
       "  </thead>\n",
       "  <tbody>\n",
       "    <tr>\n",
       "      <th>1</th>\n",
       "      <td>#Gadhvi (He thought he was Gandhi)</td>\n",
       "      <td>2019</td>\n",
       "      <td>109</td>\n",
       "      <td>Drama</td>\n",
       "      <td>7.0</td>\n",
       "      <td>8</td>\n",
       "      <td>Gaurav Bakshi</td>\n",
       "      <td>Rasika Dugal</td>\n",
       "      <td>Vivek Ghamande</td>\n",
       "      <td>Arvind Jangid</td>\n",
       "      <td>Rasika Dugal, Vivek Ghamande, Arvind Jangid</td>\n",
       "      <td>629</td>\n",
       "      <td>229</td>\n",
       "      <td>3858</td>\n",
       "    </tr>\n",
       "    <tr>\n",
       "      <th>3</th>\n",
       "      <td>#Yaaram</td>\n",
       "      <td>2019</td>\n",
       "      <td>110</td>\n",
       "      <td>Comedy, Romance</td>\n",
       "      <td>4.4</td>\n",
       "      <td>35</td>\n",
       "      <td>Ovais Khan</td>\n",
       "      <td>Prateik</td>\n",
       "      <td>Ishita Raj</td>\n",
       "      <td>Siddhant Kapoor</td>\n",
       "      <td>Prateik, Ishita Raj, Siddhant Kapoor</td>\n",
       "      <td>1334</td>\n",
       "      <td>184</td>\n",
       "      <td>3326</td>\n",
       "    </tr>\n",
       "    <tr>\n",
       "      <th>5</th>\n",
       "      <td>...Aur Pyaar Ho Gaya</td>\n",
       "      <td>1997</td>\n",
       "      <td>147</td>\n",
       "      <td>Comedy, Drama, Musical</td>\n",
       "      <td>4.7</td>\n",
       "      <td>827</td>\n",
       "      <td>Rahul Rawail</td>\n",
       "      <td>Bobby Deol</td>\n",
       "      <td>Aishwarya Rai Bachchan</td>\n",
       "      <td>Shammi Kapoor</td>\n",
       "      <td>Bobby Deol, Aishwarya Rai Bachchan, Shammi Kapoor</td>\n",
       "      <td>1527</td>\n",
       "      <td>157</td>\n",
       "      <td>1112</td>\n",
       "    </tr>\n",
       "    <tr>\n",
       "      <th>6</th>\n",
       "      <td>...Yahaan</td>\n",
       "      <td>2005</td>\n",
       "      <td>142</td>\n",
       "      <td>Drama, Romance, War</td>\n",
       "      <td>7.4</td>\n",
       "      <td>1086</td>\n",
       "      <td>Shoojit Sircar</td>\n",
       "      <td>Jimmy Sheirgill</td>\n",
       "      <td>Minissha Lamba</td>\n",
       "      <td>Yashpal Sharma</td>\n",
       "      <td>Jimmy Sheirgill, Minissha Lamba, Yashpal Sharma</td>\n",
       "      <td>2037</td>\n",
       "      <td>289</td>\n",
       "      <td>2075</td>\n",
       "    </tr>\n",
       "    <tr>\n",
       "      <th>8</th>\n",
       "      <td>?: A Question Mark</td>\n",
       "      <td>2012</td>\n",
       "      <td>82</td>\n",
       "      <td>Horror, Mystery, Thriller</td>\n",
       "      <td>5.6</td>\n",
       "      <td>326</td>\n",
       "      <td>Allyson Patel</td>\n",
       "      <td>Yash Dave</td>\n",
       "      <td>Muntazir Ahmad</td>\n",
       "      <td>Kiran Bhatia</td>\n",
       "      <td>Yash Dave, Muntazir Ahmad, Kiran Bhatia</td>\n",
       "      <td>135</td>\n",
       "      <td>320</td>\n",
       "      <td>5535</td>\n",
       "    </tr>\n",
       "    <tr>\n",
       "      <th>9</th>\n",
       "      <td>@Andheri</td>\n",
       "      <td>2014</td>\n",
       "      <td>116</td>\n",
       "      <td>Action, Crime, Thriller</td>\n",
       "      <td>4.0</td>\n",
       "      <td>11</td>\n",
       "      <td>Biju Bhaskar Nair</td>\n",
       "      <td>Augustine</td>\n",
       "      <td>Fathima Babu</td>\n",
       "      <td>Byon</td>\n",
       "      <td>Augustine, Fathima Babu, Byon</td>\n",
       "      <td>401</td>\n",
       "      <td>37</td>\n",
       "      <td>967</td>\n",
       "    </tr>\n",
       "    <tr>\n",
       "      <th>10</th>\n",
       "      <td>1:1.6 An Ode to Lost Love</td>\n",
       "      <td>2004</td>\n",
       "      <td>96</td>\n",
       "      <td>Drama</td>\n",
       "      <td>6.2</td>\n",
       "      <td>17</td>\n",
       "      <td>Madhu Ambat</td>\n",
       "      <td>Rati Agnihotri</td>\n",
       "      <td>Gulshan Grover</td>\n",
       "      <td>Atul Kulkarni</td>\n",
       "      <td>Rati Agnihotri, Gulshan Grover, Atul Kulkarni</td>\n",
       "      <td>1083</td>\n",
       "      <td>229</td>\n",
       "      <td>3863</td>\n",
       "    </tr>\n",
       "    <tr>\n",
       "      <th>11</th>\n",
       "      <td>1:13:7 Ek Tera Saath</td>\n",
       "      <td>2016</td>\n",
       "      <td>120</td>\n",
       "      <td>Horror</td>\n",
       "      <td>5.9</td>\n",
       "      <td>59</td>\n",
       "      <td>Arshad Siddiqui</td>\n",
       "      <td>Pankaj Berry</td>\n",
       "      <td>Anubhav Dhir</td>\n",
       "      <td>Hritu Dudani</td>\n",
       "      <td>Pankaj Berry, Anubhav Dhir, Hritu Dudani</td>\n",
       "      <td>266</td>\n",
       "      <td>316</td>\n",
       "      <td>3213</td>\n",
       "    </tr>\n",
       "    <tr>\n",
       "      <th>12</th>\n",
       "      <td>100 Days</td>\n",
       "      <td>1991</td>\n",
       "      <td>161</td>\n",
       "      <td>Horror, Romance, Thriller</td>\n",
       "      <td>6.5</td>\n",
       "      <td>983</td>\n",
       "      <td>Partho Ghosh</td>\n",
       "      <td>Jackie Shroff</td>\n",
       "      <td>Madhuri Dixit</td>\n",
       "      <td>Javed Jaffrey</td>\n",
       "      <td>Jackie Shroff, Madhuri Dixit, Javed Jaffrey</td>\n",
       "      <td>1373</td>\n",
       "      <td>323</td>\n",
       "      <td>1890</td>\n",
       "    </tr>\n",
       "    <tr>\n",
       "      <th>13</th>\n",
       "      <td>100% Love</td>\n",
       "      <td>2012</td>\n",
       "      <td>166</td>\n",
       "      <td>Comedy, Drama, Romance</td>\n",
       "      <td>5.7</td>\n",
       "      <td>512</td>\n",
       "      <td>Rabi Kinagi</td>\n",
       "      <td>Jeet</td>\n",
       "      <td>Koyel Mallick</td>\n",
       "      <td>Sujoy Ghosh</td>\n",
       "      <td>Jeet, Koyel Mallick, Sujoy Ghosh</td>\n",
       "      <td>1503</td>\n",
       "      <td>159</td>\n",
       "      <td>1971</td>\n",
       "    </tr>\n",
       "  </tbody>\n",
       "</table>\n",
       "</div>"
      ],
      "text/plain": [
       "                                  Name  Year  Duration  \\\n",
       "1   #Gadhvi (He thought he was Gandhi)  2019       109   \n",
       "3                              #Yaaram  2019       110   \n",
       "5                 ...Aur Pyaar Ho Gaya  1997       147   \n",
       "6                            ...Yahaan  2005       142   \n",
       "8                   ?: A Question Mark  2012        82   \n",
       "9                             @Andheri  2014       116   \n",
       "10           1:1.6 An Ode to Lost Love  2004        96   \n",
       "11                1:13:7 Ek Tera Saath  2016       120   \n",
       "12                            100 Days  1991       161   \n",
       "13                           100% Love  2012       166   \n",
       "\n",
       "                        Genre  Rating  Votes           Director  \\\n",
       "1                       Drama     7.0      8      Gaurav Bakshi   \n",
       "3             Comedy, Romance     4.4     35         Ovais Khan   \n",
       "5      Comedy, Drama, Musical     4.7    827       Rahul Rawail   \n",
       "6         Drama, Romance, War     7.4   1086     Shoojit Sircar   \n",
       "8   Horror, Mystery, Thriller     5.6    326      Allyson Patel   \n",
       "9     Action, Crime, Thriller     4.0     11  Biju Bhaskar Nair   \n",
       "10                      Drama     6.2     17        Madhu Ambat   \n",
       "11                     Horror     5.9     59    Arshad Siddiqui   \n",
       "12  Horror, Romance, Thriller     6.5    983       Partho Ghosh   \n",
       "13     Comedy, Drama, Romance     5.7    512        Rabi Kinagi   \n",
       "\n",
       "            Actor 1                 Actor 2          Actor 3  \\\n",
       "1      Rasika Dugal          Vivek Ghamande    Arvind Jangid   \n",
       "3           Prateik              Ishita Raj  Siddhant Kapoor   \n",
       "5        Bobby Deol  Aishwarya Rai Bachchan    Shammi Kapoor   \n",
       "6   Jimmy Sheirgill          Minissha Lamba   Yashpal Sharma   \n",
       "8         Yash Dave          Muntazir Ahmad     Kiran Bhatia   \n",
       "9         Augustine            Fathima Babu             Byon   \n",
       "10   Rati Agnihotri          Gulshan Grover    Atul Kulkarni   \n",
       "11     Pankaj Berry            Anubhav Dhir     Hritu Dudani   \n",
       "12    Jackie Shroff           Madhuri Dixit    Javed Jaffrey   \n",
       "13             Jeet           Koyel Mallick      Sujoy Ghosh   \n",
       "\n",
       "                                                Actor  Directors  Genres  \\\n",
       "1         Rasika Dugal, Vivek Ghamande, Arvind Jangid        629     229   \n",
       "3                Prateik, Ishita Raj, Siddhant Kapoor       1334     184   \n",
       "5   Bobby Deol, Aishwarya Rai Bachchan, Shammi Kapoor       1527     157   \n",
       "6     Jimmy Sheirgill, Minissha Lamba, Yashpal Sharma       2037     289   \n",
       "8             Yash Dave, Muntazir Ahmad, Kiran Bhatia        135     320   \n",
       "9                       Augustine, Fathima Babu, Byon        401      37   \n",
       "10      Rati Agnihotri, Gulshan Grover, Atul Kulkarni       1083     229   \n",
       "11           Pankaj Berry, Anubhav Dhir, Hritu Dudani        266     316   \n",
       "12        Jackie Shroff, Madhuri Dixit, Javed Jaffrey       1373     323   \n",
       "13                   Jeet, Koyel Mallick, Sujoy Ghosh       1503     159   \n",
       "\n",
       "    Actors  \n",
       "1     3858  \n",
       "3     3326  \n",
       "5     1112  \n",
       "6     2075  \n",
       "8     5535  \n",
       "9      967  \n",
       "10    3863  \n",
       "11    3213  \n",
       "12    1890  \n",
       "13    1971  "
      ]
     },
     "execution_count": 180,
     "metadata": {},
     "output_type": "execute_result"
    }
   ],
   "source": [
    "movie_file.head(10)"
   ]
  },
  {
   "cell_type": "code",
   "execution_count": 181,
   "id": "c7e20385",
   "metadata": {},
   "outputs": [
    {
     "data": {
      "image/png": "[encoded data removed]",
      "text/plain": [
       "<Figure size 640x480 with 1 Axes>"
      ]
     },
     "metadata": {},
     "output_type": "display_data"
    }
   ],
   "source": [
    "ax = sb.boxplot(data=movie_file, y='Directors')\n",
    "ax.set_ylabel('Directors')\n",
    "ax.set_title('Box Plot of Directors')\n",
    "plt.show()"
   ]
  },
  {
   "cell_type": "code",
   "execution_count": 182,
   "id": "fa2ce0cd",
   "metadata": {},
   "outputs": [],
   "source": [
    "Q1 = movie_file['Directors'].quantile(0.25)\n",
    "Q3 = movie_file['Directors'].quantile(0.75)\n",
    "IQR = Q3 - Q1\n",
    "lower_bound = Q1 - 1.5 * IQR\n",
    "upper_bound = Q3 + 1.5 * IQR\n",
    "movie_file = movie_file[(movie_file['Directors'] >= lower_bound) & (movie_file['Directors'] <= upper_bound)]"
   ]
  },
  {
   "cell_type": "code",
   "execution_count": 183,
   "id": "d00be0ce",
   "metadata": {},
   "outputs": [
    {
     "data": {
      "image/png": "[encoded data removed]",
      "text/plain": [
       "<Figure size 640x480 with 1 Axes>"
      ]
     },
     "metadata": {},
     "output_type": "display_data"
    }
   ],
   "source": [
    "ax = sb.boxplot(data=movie_file, y='Actors')\n",
    "ax.set_ylabel('Actors')\n",
    "ax.set_title('Box Plot of Actors')\n",
    "plt.show()"
   ]
  },
  {
   "cell_type": "code",
   "execution_count": 184,
   "id": "d31d9cb2",
   "metadata": {},
   "outputs": [],
   "source": [
    "Q1 = movie_file['Actors'].quantile(0.25)\n",
    "Q3 = movie_file['Actors'].quantile(0.75)\n",
    "IQR = Q3 - Q1\n",
    "lower_bound = Q1 - 1.5 * IQR\n",
    "upper_bound = Q3 + 1.5 * IQR\n",
    "movie_file = movie_file[(movie_file['Actors'] >= lower_bound) & (movie_file['Actors'] <= upper_bound)]"
   ]
  },
  {
   "cell_type": "code",
   "execution_count": 185,
   "id": "57a654f7",
   "metadata": {},
   "outputs": [
    {
     "data": {
      "text/html": [
       "<div>\n",
       "<style scoped>\n",
       "    .dataframe tbody tr th:only-of-type {\n",
       "        vertical-align: middle;\n",
       "    }\n",
       "\n",
       "    .dataframe tbody tr th {\n",
       "        vertical-align: top;\n",
       "    }\n",
       "\n",
       "    .dataframe thead th {\n",
       "        text-align: right;\n",
       "    }\n",
       "</style>\n",
       "<table border=\"1\" class=\"dataframe\">\n",
       "  <thead>\n",
       "    <tr style=\"text-align: right;\">\n",
       "      <th></th>\n",
       "      <th>Name</th>\n",
       "      <th>Year</th>\n",
       "      <th>Duration</th>\n",
       "      <th>Genre</th>\n",
       "      <th>Rating</th>\n",
       "      <th>Votes</th>\n",
       "      <th>Director</th>\n",
       "      <th>Actor 1</th>\n",
       "      <th>Actor 2</th>\n",
       "      <th>Actor 3</th>\n",
       "      <th>Actor</th>\n",
       "      <th>Directors</th>\n",
       "      <th>Genres</th>\n",
       "      <th>Actors</th>\n",
       "    </tr>\n",
       "  </thead>\n",
       "  <tbody>\n",
       "    <tr>\n",
       "      <th>1</th>\n",
       "      <td>#Gadhvi (He thought he was Gandhi)</td>\n",
       "      <td>2019</td>\n",
       "      <td>109</td>\n",
       "      <td>Drama</td>\n",
       "      <td>7.0</td>\n",
       "      <td>8</td>\n",
       "      <td>Gaurav Bakshi</td>\n",
       "      <td>Rasika Dugal</td>\n",
       "      <td>Vivek Ghamande</td>\n",
       "      <td>Arvind Jangid</td>\n",
       "      <td>Rasika Dugal, Vivek Ghamande, Arvind Jangid</td>\n",
       "      <td>629</td>\n",
       "      <td>229</td>\n",
       "      <td>3858</td>\n",
       "    </tr>\n",
       "    <tr>\n",
       "      <th>3</th>\n",
       "      <td>#Yaaram</td>\n",
       "      <td>2019</td>\n",
       "      <td>110</td>\n",
       "      <td>Comedy, Romance</td>\n",
       "      <td>4.4</td>\n",
       "      <td>35</td>\n",
       "      <td>Ovais Khan</td>\n",
       "      <td>Prateik</td>\n",
       "      <td>Ishita Raj</td>\n",
       "      <td>Siddhant Kapoor</td>\n",
       "      <td>Prateik, Ishita Raj, Siddhant Kapoor</td>\n",
       "      <td>1334</td>\n",
       "      <td>184</td>\n",
       "      <td>3326</td>\n",
       "    </tr>\n",
       "    <tr>\n",
       "      <th>5</th>\n",
       "      <td>...Aur Pyaar Ho Gaya</td>\n",
       "      <td>1997</td>\n",
       "      <td>147</td>\n",
       "      <td>Comedy, Drama, Musical</td>\n",
       "      <td>4.7</td>\n",
       "      <td>827</td>\n",
       "      <td>Rahul Rawail</td>\n",
       "      <td>Bobby Deol</td>\n",
       "      <td>Aishwarya Rai Bachchan</td>\n",
       "      <td>Shammi Kapoor</td>\n",
       "      <td>Bobby Deol, Aishwarya Rai Bachchan, Shammi Kapoor</td>\n",
       "      <td>1527</td>\n",
       "      <td>157</td>\n",
       "      <td>1112</td>\n",
       "    </tr>\n",
       "    <tr>\n",
       "      <th>6</th>\n",
       "      <td>...Yahaan</td>\n",
       "      <td>2005</td>\n",
       "      <td>142</td>\n",
       "      <td>Drama, Romance, War</td>\n",
       "      <td>7.4</td>\n",
       "      <td>1086</td>\n",
       "      <td>Shoojit Sircar</td>\n",
       "      <td>Jimmy Sheirgill</td>\n",
       "      <td>Minissha Lamba</td>\n",
       "      <td>Yashpal Sharma</td>\n",
       "      <td>Jimmy Sheirgill, Minissha Lamba, Yashpal Sharma</td>\n",
       "      <td>2037</td>\n",
       "      <td>289</td>\n",
       "      <td>2075</td>\n",
       "    </tr>\n",
       "    <tr>\n",
       "      <th>8</th>\n",
       "      <td>?: A Question Mark</td>\n",
       "      <td>2012</td>\n",
       "      <td>82</td>\n",
       "      <td>Horror, Mystery, Thriller</td>\n",
       "      <td>5.6</td>\n",
       "      <td>326</td>\n",
       "      <td>Allyson Patel</td>\n",
       "      <td>Yash Dave</td>\n",
       "      <td>Muntazir Ahmad</td>\n",
       "      <td>Kiran Bhatia</td>\n",
       "      <td>Yash Dave, Muntazir Ahmad, Kiran Bhatia</td>\n",
       "      <td>135</td>\n",
       "      <td>320</td>\n",
       "      <td>5535</td>\n",
       "    </tr>\n",
       "    <tr>\n",
       "      <th>9</th>\n",
       "      <td>@Andheri</td>\n",
       "      <td>2014</td>\n",
       "      <td>116</td>\n",
       "      <td>Action, Crime, Thriller</td>\n",
       "      <td>4.0</td>\n",
       "      <td>11</td>\n",
       "      <td>Biju Bhaskar Nair</td>\n",
       "      <td>Augustine</td>\n",
       "      <td>Fathima Babu</td>\n",
       "      <td>Byon</td>\n",
       "      <td>Augustine, Fathima Babu, Byon</td>\n",
       "      <td>401</td>\n",
       "      <td>37</td>\n",
       "      <td>967</td>\n",
       "    </tr>\n",
       "    <tr>\n",
       "      <th>10</th>\n",
       "      <td>1:1.6 An Ode to Lost Love</td>\n",
       "      <td>2004</td>\n",
       "      <td>96</td>\n",
       "      <td>Drama</td>\n",
       "      <td>6.2</td>\n",
       "      <td>17</td>\n",
       "      <td>Madhu Ambat</td>\n",
       "      <td>Rati Agnihotri</td>\n",
       "      <td>Gulshan Grover</td>\n",
       "      <td>Atul Kulkarni</td>\n",
       "      <td>Rati Agnihotri, Gulshan Grover, Atul Kulkarni</td>\n",
       "      <td>1083</td>\n",
       "      <td>229</td>\n",
       "      <td>3863</td>\n",
       "    </tr>\n",
       "    <tr>\n",
       "      <th>11</th>\n",
       "      <td>1:13:7 Ek Tera Saath</td>\n",
       "      <td>2016</td>\n",
       "      <td>120</td>\n",
       "      <td>Horror</td>\n",
       "      <td>5.9</td>\n",
       "      <td>59</td>\n",
       "      <td>Arshad Siddiqui</td>\n",
       "      <td>Pankaj Berry</td>\n",
       "      <td>Anubhav Dhir</td>\n",
       "      <td>Hritu Dudani</td>\n",
       "      <td>Pankaj Berry, Anubhav Dhir, Hritu Dudani</td>\n",
       "      <td>266</td>\n",
       "      <td>316</td>\n",
       "      <td>3213</td>\n",
       "    </tr>\n",
       "    <tr>\n",
       "      <th>12</th>\n",
       "      <td>100 Days</td>\n",
       "      <td>1991</td>\n",
       "      <td>161</td>\n",
       "      <td>Horror, Romance, Thriller</td>\n",
       "      <td>6.5</td>\n",
       "      <td>983</td>\n",
       "      <td>Partho Ghosh</td>\n",
       "      <td>Jackie Shroff</td>\n",
       "      <td>Madhuri Dixit</td>\n",
       "      <td>Javed Jaffrey</td>\n",
       "      <td>Jackie Shroff, Madhuri Dixit, Javed Jaffrey</td>\n",
       "      <td>1373</td>\n",
       "      <td>323</td>\n",
       "      <td>1890</td>\n",
       "    </tr>\n",
       "    <tr>\n",
       "      <th>13</th>\n",
       "      <td>100% Love</td>\n",
       "      <td>2012</td>\n",
       "      <td>166</td>\n",
       "      <td>Comedy, Drama, Romance</td>\n",
       "      <td>5.7</td>\n",
       "      <td>512</td>\n",
       "      <td>Rabi Kinagi</td>\n",
       "      <td>Jeet</td>\n",
       "      <td>Koyel Mallick</td>\n",
       "      <td>Sujoy Ghosh</td>\n",
       "      <td>Jeet, Koyel Mallick, Sujoy Ghosh</td>\n",
       "      <td>1503</td>\n",
       "      <td>159</td>\n",
       "      <td>1971</td>\n",
       "    </tr>\n",
       "  </tbody>\n",
       "</table>\n",
       "</div>"
      ],
      "text/plain": [
       "                                  Name  Year  Duration  \\\n",
       "1   #Gadhvi (He thought he was Gandhi)  2019       109   \n",
       "3                              #Yaaram  2019       110   \n",
       "5                 ...Aur Pyaar Ho Gaya  1997       147   \n",
       "6                            ...Yahaan  2005       142   \n",
       "8                   ?: A Question Mark  2012        82   \n",
       "9                             @Andheri  2014       116   \n",
       "10           1:1.6 An Ode to Lost Love  2004        96   \n",
       "11                1:13:7 Ek Tera Saath  2016       120   \n",
       "12                            100 Days  1991       161   \n",
       "13                           100% Love  2012       166   \n",
       "\n",
       "                        Genre  Rating  Votes           Director  \\\n",
       "1                       Drama     7.0      8      Gaurav Bakshi   \n",
       "3             Comedy, Romance     4.4     35         Ovais Khan   \n",
       "5      Comedy, Drama, Musical     4.7    827       Rahul Rawail   \n",
       "6         Drama, Romance, War     7.4   1086     Shoojit Sircar   \n",
       "8   Horror, Mystery, Thriller     5.6    326      Allyson Patel   \n",
       "9     Action, Crime, Thriller     4.0     11  Biju Bhaskar Nair   \n",
       "10                      Drama     6.2     17        Madhu Ambat   \n",
       "11                     Horror     5.9     59    Arshad Siddiqui   \n",
       "12  Horror, Romance, Thriller     6.5    983       Partho Ghosh   \n",
       "13     Comedy, Drama, Romance     5.7    512        Rabi Kinagi   \n",
       "\n",
       "            Actor 1                 Actor 2          Actor 3  \\\n",
       "1      Rasika Dugal          Vivek Ghamande    Arvind Jangid   \n",
       "3           Prateik              Ishita Raj  Siddhant Kapoor   \n",
       "5        Bobby Deol  Aishwarya Rai Bachchan    Shammi Kapoor   \n",
       "6   Jimmy Sheirgill          Minissha Lamba   Yashpal Sharma   \n",
       "8         Yash Dave          Muntazir Ahmad     Kiran Bhatia   \n",
       "9         Augustine            Fathima Babu             Byon   \n",
       "10   Rati Agnihotri          Gulshan Grover    Atul Kulkarni   \n",
       "11     Pankaj Berry            Anubhav Dhir     Hritu Dudani   \n",
       "12    Jackie Shroff           Madhuri Dixit    Javed Jaffrey   \n",
       "13             Jeet           Koyel Mallick      Sujoy Ghosh   \n",
       "\n",
       "                                                Actor  Directors  Genres  \\\n",
       "1         Rasika Dugal, Vivek Ghamande, Arvind Jangid        629     229   \n",
       "3                Prateik, Ishita Raj, Siddhant Kapoor       1334     184   \n",
       "5   Bobby Deol, Aishwarya Rai Bachchan, Shammi Kapoor       1527     157   \n",
       "6     Jimmy Sheirgill, Minissha Lamba, Yashpal Sharma       2037     289   \n",
       "8             Yash Dave, Muntazir Ahmad, Kiran Bhatia        135     320   \n",
       "9                       Augustine, Fathima Babu, Byon        401      37   \n",
       "10      Rati Agnihotri, Gulshan Grover, Atul Kulkarni       1083     229   \n",
       "11           Pankaj Berry, Anubhav Dhir, Hritu Dudani        266     316   \n",
       "12        Jackie Shroff, Madhuri Dixit, Javed Jaffrey       1373     323   \n",
       "13                   Jeet, Koyel Mallick, Sujoy Ghosh       1503     159   \n",
       "\n",
       "    Actors  \n",
       "1     3858  \n",
       "3     3326  \n",
       "5     1112  \n",
       "6     2075  \n",
       "8     5535  \n",
       "9      967  \n",
       "10    3863  \n",
       "11    3213  \n",
       "12    1890  \n",
       "13    1971  "
      ]
     },
     "execution_count": 185,
     "metadata": {},
     "output_type": "execute_result"
    }
   ],
   "source": [
    "movie_file.head(10)"
   ]
  },
  {
   "cell_type": "code",
   "execution_count": 186,
   "id": "a3c7efad",
   "metadata": {},
   "outputs": [],
   "source": [
    "Input = movie_file.drop(['Name', 'Genre', 'Rating', 'Director', 'Actor 1', 'Actor 2', 'Actor 3', 'Actor'], axis=1)\n",
    "Output = movie_file['Rating']"
   ]
  },
  {
   "cell_type": "code",
   "execution_count": 187,
   "id": "1e472671",
   "metadata": {},
   "outputs": [
    {
     "data": {
      "text/html": [
       "<div>\n",
       "<style scoped>\n",
       "    .dataframe tbody tr th:only-of-type {\n",
       "        vertical-align: middle;\n",
       "    }\n",
       "\n",
       "    .dataframe tbody tr th {\n",
       "        vertical-align: top;\n",
       "    }\n",
       "\n",
       "    .dataframe thead th {\n",
       "        text-align: right;\n",
       "    }\n",
       "</style>\n",
       "<table border=\"1\" class=\"dataframe\">\n",
       "  <thead>\n",
       "    <tr style=\"text-align: right;\">\n",
       "      <th></th>\n",
       "      <th>Year</th>\n",
       "      <th>Duration</th>\n",
       "      <th>Votes</th>\n",
       "      <th>Directors</th>\n",
       "      <th>Genres</th>\n",
       "      <th>Actors</th>\n",
       "    </tr>\n",
       "  </thead>\n",
       "  <tbody>\n",
       "    <tr>\n",
       "      <th>1</th>\n",
       "      <td>2019</td>\n",
       "      <td>109</td>\n",
       "      <td>8</td>\n",
       "      <td>629</td>\n",
       "      <td>229</td>\n",
       "      <td>3858</td>\n",
       "    </tr>\n",
       "    <tr>\n",
       "      <th>3</th>\n",
       "      <td>2019</td>\n",
       "      <td>110</td>\n",
       "      <td>35</td>\n",
       "      <td>1334</td>\n",
       "      <td>184</td>\n",
       "      <td>3326</td>\n",
       "    </tr>\n",
       "    <tr>\n",
       "      <th>5</th>\n",
       "      <td>1997</td>\n",
       "      <td>147</td>\n",
       "      <td>827</td>\n",
       "      <td>1527</td>\n",
       "      <td>157</td>\n",
       "      <td>1112</td>\n",
       "    </tr>\n",
       "    <tr>\n",
       "      <th>6</th>\n",
       "      <td>2005</td>\n",
       "      <td>142</td>\n",
       "      <td>1086</td>\n",
       "      <td>2037</td>\n",
       "      <td>289</td>\n",
       "      <td>2075</td>\n",
       "    </tr>\n",
       "    <tr>\n",
       "      <th>8</th>\n",
       "      <td>2012</td>\n",
       "      <td>82</td>\n",
       "      <td>326</td>\n",
       "      <td>135</td>\n",
       "      <td>320</td>\n",
       "      <td>5535</td>\n",
       "    </tr>\n",
       "    <tr>\n",
       "      <th>9</th>\n",
       "      <td>2014</td>\n",
       "      <td>116</td>\n",
       "      <td>11</td>\n",
       "      <td>401</td>\n",
       "      <td>37</td>\n",
       "      <td>967</td>\n",
       "    </tr>\n",
       "    <tr>\n",
       "      <th>10</th>\n",
       "      <td>2004</td>\n",
       "      <td>96</td>\n",
       "      <td>17</td>\n",
       "      <td>1083</td>\n",
       "      <td>229</td>\n",
       "      <td>3863</td>\n",
       "    </tr>\n",
       "    <tr>\n",
       "      <th>11</th>\n",
       "      <td>2016</td>\n",
       "      <td>120</td>\n",
       "      <td>59</td>\n",
       "      <td>266</td>\n",
       "      <td>316</td>\n",
       "      <td>3213</td>\n",
       "    </tr>\n",
       "    <tr>\n",
       "      <th>12</th>\n",
       "      <td>1991</td>\n",
       "      <td>161</td>\n",
       "      <td>983</td>\n",
       "      <td>1373</td>\n",
       "      <td>323</td>\n",
       "      <td>1890</td>\n",
       "    </tr>\n",
       "    <tr>\n",
       "      <th>13</th>\n",
       "      <td>2012</td>\n",
       "      <td>166</td>\n",
       "      <td>512</td>\n",
       "      <td>1503</td>\n",
       "      <td>159</td>\n",
       "      <td>1971</td>\n",
       "    </tr>\n",
       "  </tbody>\n",
       "</table>\n",
       "</div>"
      ],
      "text/plain": [
       "    Year  Duration  Votes  Directors  Genres  Actors\n",
       "1   2019       109      8        629     229    3858\n",
       "3   2019       110     35       1334     184    3326\n",
       "5   1997       147    827       1527     157    1112\n",
       "6   2005       142   1086       2037     289    2075\n",
       "8   2012        82    326        135     320    5535\n",
       "9   2014       116     11        401      37     967\n",
       "10  2004        96     17       1083     229    3863\n",
       "11  2016       120     59        266     316    3213\n",
       "12  1991       161    983       1373     323    1890\n",
       "13  2012       166    512       1503     159    1971"
      ]
     },
     "execution_count": 187,
     "metadata": {},
     "output_type": "execute_result"
    }
   ],
   "source": [
    "Input.head(10)"
   ]
  },
  {
   "cell_type": "code",
   "execution_count": 188,
   "id": "a3393283",
   "metadata": {},
   "outputs": [
    {
     "data": {
      "text/plain": [
       "1     7.0\n",
       "3     4.4\n",
       "5     4.7\n",
       "6     7.4\n",
       "8     5.6\n",
       "9     4.0\n",
       "10    6.2\n",
       "11    5.9\n",
       "12    6.5\n",
       "13    5.7\n",
       "Name: Rating, dtype: float64"
      ]
     },
     "execution_count": 188,
     "metadata": {},
     "output_type": "execute_result"
    }
   ],
   "source": [
    "Output.head(10)"
   ]
  },
  {
   "cell_type": "code",
   "execution_count": 189,
   "id": "3c1a9a02",
   "metadata": {},
   "outputs": [
    {
     "name": "stdout",
     "output_type": "stream",
     "text": [
      "1127 1127\n"
     ]
    }
   ],
   "source": [
    "X_train, X_test, y_train, y_test = train_test_split(\n",
    "    Input, Output, test_size=0.2, random_state=42\n",
    ")\n",
    "print(len(y_test), len(X_test)) "
   ]
  },
  {
   "cell_type": "code",
   "execution_count": 190,
   "id": "79ba36fd",
   "metadata": {},
   "outputs": [
    {
     "name": "stdout",
     "output_type": "stream",
     "text": [
      "1127 1127\n"
     ]
    }
   ],
   "source": [
    "print(len(y_test), len(X_test))"
   ]
  },
  {
   "cell_type": "code",
   "execution_count": 191,
   "id": "1deaa971",
   "metadata": {},
   "outputs": [],
   "source": [
    "movie_file.drop('Name', axis = 1, inplace = True)"
   ]
  },
  {
   "cell_type": "code",
   "execution_count": 192,
   "id": "603fed19",
   "metadata": {},
   "outputs": [],
   "source": [
    "genre_avg_rating = movie_file.groupby('Genre')['Rating'].transform('mean')\n",
    "movie_file['Genre_avg_rating'] = genre_avg_rating\n",
    "\n",
    "director_avg_rating = movie_file.groupby('Director')['Rating'].transform('mean')\n",
    "movie_file['Director_avg_rating'] = director_avg_rating\n",
    "\n",
    "actor1_avg_rating = movie_file.groupby('Actor 1')['Rating'].transform('mean')\n",
    "movie_file['Actor1_avg_rating'] = actor1_avg_rating\n",
    "\n",
    "actor2_avg_rating = movie_file.groupby('Actor 2')['Rating'].transform('mean')\n",
    "movie_file['Actor2_avg_rating'] = actor2_avg_rating\n",
    "\n",
    "actor3_avg_rating = movie_file.groupby('Actor 3')['Rating'].transform('mean')\n",
    "movie_file['Actor3_avg_rating'] = actor3_avg_rating"
   ]
  },
  {
   "cell_type": "code",
   "execution_count": 193,
   "id": "a239980a",
   "metadata": {},
   "outputs": [],
   "source": [
    "X = movie_file[[ 'Year', 'Votes', 'Duration', 'Genre_avg_rating','Director_avg_rating','Actor1_avg_rating', 'Actor2_avg_rating',\n",
    "        'Actor3_avg_rating']]\n",
    "y = movie_file['Rating']"
   ]
  },
  {
   "cell_type": "code",
   "execution_count": 194,
   "id": "5bd1c098",
   "metadata": {},
   "outputs": [],
   "source": [
    "X_train,X_test,y_train,y_test = train_test_split(X,y,test_size=0.2,random_state=42)"
   ]
  },
  {
   "cell_type": "code",
   "execution_count": 195,
   "id": "31ab0540",
   "metadata": {},
   "outputs": [],
   "source": [
    "X_train = X_train.dropna()\n",
    "y_train = y_train[X_train.index] \n",
    "X_test = X_test.dropna()"
   ]
  },
  {
   "cell_type": "code",
   "execution_count": 196,
   "id": "a2ef2ab1",
   "metadata": {},
   "outputs": [],
   "source": [
    "# Linear Regression\n",
    "linear = LinearRegression()\n",
    "linear.fit(X_train, y_train)\n",
    "linear_model = linear.predict(X_test)\n",
    "\n",
    "# Decision Tree Regressor\n",
    "DTree = DecisionTreeRegressor(random_state=42)\n",
    "DTree.fit(X_train, y_train)\n",
    "DTree_model = DTree.predict(X_test)\n",
    "\n",
    "# Random Forest Regressor\n",
    "RF = RandomForestRegressor(n_estimators=100, random_state=42)\n",
    "RF.fit(X_train, y_train)\n",
    "RF_model = RF.predict(X_test)\n",
    "\n",
    "# XGBoost Regressor (Fixed `random_state` issue)\n",
    "XGBR = XGBRegressor(n_estimators=100, seed=42)  # `seed` is used instead of `random_state`\n",
    "XGBR.fit(X_train, y_train)\n",
    "XGBR_model = XGBR.predict(X_test)\n",
    "\n",
    "# Gradient Boosting Regressor\n",
    "GBR = GradientBoostingRegressor(n_estimators=100, random_state=42)\n",
    "GBR.fit(X_train, y_train)\n",
    "GBR_model = GBR.predict(X_test)\n",
    "\n",
    "# Support Vector Regressor\n",
    "SVRM = SVR(kernel='rbf')\n",
    "SVRM.fit(X_train, y_train)\n",
    "SVR_model = SVRM.predict(X_test)\n",
    "\n",
    "# K-Nearest Neighbors Regressor\n",
    "KNN = KNeighborsRegressor(n_neighbors=5)\n",
    "KNN.fit(X_train, y_train)\n",
    "KNN_model = KNN.predict(X_test)"
   ]
  },
  {
   "cell_type": "code",
   "execution_count": null,
   "id": "a3d7ab39",
   "metadata": {},
   "outputs": [],
   "source": []
  },
  {
   "cell_type": "code",
   "execution_count": null,
   "id": "10bbf612",
   "metadata": {},
   "outputs": [],
   "source": []
  },
  {
   "cell_type": "code",
   "execution_count": null,
   "id": "dcd6aac6",
   "metadata": {},
   "outputs": [],
   "source": []
  },
  {
   "cell_type": "code",
   "execution_count": 197,
   "id": "2955c5ff",
   "metadata": {},
   "outputs": [],
   "source": [
    "def evaluate_model(y_true, y_pred, model_name):\n",
    "    print(\"Model: \", model_name)\n",
    "    print(\"Accuracy = {:0.2f}%\".format(score(y_true, y_pred)*1000))\n",
    "    print(\"Mean Squared Error = {:0.2f}\\n\".format(mean_squared_error(y_true, y_pred, squared=False)))\n",
    "    return round(score(y_true, y_pred)*1000, 2)"
   ]
  },
  {
   "cell_type": "code",
   "execution_count": 198,
   "id": "c5a4688e",
   "metadata": {},
   "outputs": [
    {
     "name": "stdout",
     "output_type": "stream",
     "text": [
      "Model:  Linear Regression\n",
      "Accuracy = 749.88%\n",
      "Mean Squared Error = 0.66\n",
      "\n",
      "Model:  Random Forest\n",
      "Accuracy = 810.94%\n",
      "Mean Squared Error = 0.58\n",
      "\n",
      "Model:  Decision Tree Regression\n",
      "Accuracy = 625.44%\n",
      "Mean Squared Error = 0.81\n",
      "\n",
      "Model:  Extended Gradient Boosting\n",
      "Accuracy = 808.01%\n",
      "Mean Squared Error = 0.58\n",
      "\n",
      "Model:  Gradient Boosting\n",
      "Accuracy = 811.79%\n",
      "Mean Squared Error = 0.57\n",
      "\n",
      "Model:  Support Vector Regression\n",
      "Accuracy = 46.22%\n",
      "Mean Squared Error = 1.29\n",
      "\n",
      "Model:  K Nearest Neighbors\n",
      "Accuracy = 309.12%\n",
      "Mean Squared Error = 1.10\n",
      "\n"
     ]
    }
   ],
   "source": [
    "LRScore = evaluate_model(y_test, linear_model, \"Linear Regression\")\n",
    "RFScore = evaluate_model(y_test, RF_model, \"Random Forest\")\n",
    "DTreeScore = evaluate_model(y_test, DTree_model, \"Decision Tree Regression\")\n",
    "XGBScore = evaluate_model(y_test, XGBR_model, \"Extended Gradient Boosting\")\n",
    "GBScore = evaluate_model(y_test, GBR_model, \"Gradient Boosting\")\n",
    "SVRScore = evaluate_model(y_test, SVR_model, \"Support Vector Regression\")\n",
    "KNNScore = evaluate_model(y_test, KNN_model, \"K Nearest Neighbors\")"
   ]
  },
  {
   "cell_type": "code",
   "execution_count": 201,
   "id": "1ec8b663",
   "metadata": {},
   "outputs": [],
   "source": [
    "Linear_MSE = round(mean_squared_error(y_test,linear_model),2)\n",
    "RF_MSE = round(mean_squared_error(y_test,RF_model),2)\n",
    "DTree_MSE = round(mean_squared_error(y_test,DTree_model),2)\n",
    "XGB_MSE = round(mean_squared_error(y_test,XGBR_model),2)\n",
    "GB_MSE = round(mean_squared_error(y_test,GBR_model),2)\n",
    "SVR_MSE = round(mean_squared_error(y_test,SVR_model),2)\n",
    "KNN_MSE = round(mean_squared_error(y_test,KNN_model),2)"
   ]
  },
  {
   "cell_type": "code",
   "execution_count": 202,
   "id": "20d19a00",
   "metadata": {},
   "outputs": [
    {
     "data": {
      "text/html": [
       "<div>\n",
       "<style scoped>\n",
       "    .dataframe tbody tr th:only-of-type {\n",
       "        vertical-align: middle;\n",
       "    }\n",
       "\n",
       "    .dataframe tbody tr th {\n",
       "        vertical-align: top;\n",
       "    }\n",
       "\n",
       "    .dataframe thead th {\n",
       "        text-align: right;\n",
       "    }\n",
       "</style>\n",
       "<table border=\"1\" class=\"dataframe\">\n",
       "  <thead>\n",
       "    <tr style=\"text-align: right;\">\n",
       "      <th></th>\n",
       "      <th>Regression Models</th>\n",
       "      <th>Accuracy Scores</th>\n",
       "      <th>MSE</th>\n",
       "    </tr>\n",
       "  </thead>\n",
       "  <tbody>\n",
       "    <tr>\n",
       "      <th>0</th>\n",
       "      <td>Gradient Boosting</td>\n",
       "      <td>811.79</td>\n",
       "      <td>0.33</td>\n",
       "    </tr>\n",
       "    <tr>\n",
       "      <th>1</th>\n",
       "      <td>Random Forest</td>\n",
       "      <td>810.94</td>\n",
       "      <td>0.33</td>\n",
       "    </tr>\n",
       "    <tr>\n",
       "      <th>2</th>\n",
       "      <td>Extended Gradient Boosting</td>\n",
       "      <td>808.01</td>\n",
       "      <td>0.34</td>\n",
       "    </tr>\n",
       "    <tr>\n",
       "      <th>3</th>\n",
       "      <td>Linear Regression</td>\n",
       "      <td>749.88</td>\n",
       "      <td>0.44</td>\n",
       "    </tr>\n",
       "    <tr>\n",
       "      <th>4</th>\n",
       "      <td>Decision Tree Regression</td>\n",
       "      <td>625.44</td>\n",
       "      <td>0.66</td>\n",
       "    </tr>\n",
       "    <tr>\n",
       "      <th>5</th>\n",
       "      <td>K Nearest Neighbors</td>\n",
       "      <td>309.12</td>\n",
       "      <td>1.21</td>\n",
       "    </tr>\n",
       "    <tr>\n",
       "      <th>6</th>\n",
       "      <td>Support Vector Regression</td>\n",
       "      <td>46.22</td>\n",
       "      <td>1.67</td>\n",
       "    </tr>\n",
       "  </tbody>\n",
       "</table>\n",
       "</div>"
      ],
      "text/plain": [
       "            Regression Models  Accuracy Scores   MSE\n",
       "0           Gradient Boosting           811.79  0.33\n",
       "1               Random Forest           810.94  0.33\n",
       "2  Extended Gradient Boosting           808.01  0.34\n",
       "3           Linear Regression           749.88  0.44\n",
       "4    Decision Tree Regression           625.44  0.66\n",
       "5         K Nearest Neighbors           309.12  1.21\n",
       "6   Support Vector Regression            46.22  1.67"
      ]
     },
     "execution_count": 202,
     "metadata": {},
     "output_type": "execute_result"
    }
   ],
   "source": [
    "models = pd.DataFrame(\n",
    "    {\n",
    "        \"Regression Models\": [\"Linear Regression\", \"Random Forest\", \"Decision Tree Regression\", \"Extended Gradient Boosting\",\n",
    "                   \"Gradient Boosting\", \"Support Vector Regression\", \"K Nearest Neighbors\"],\n",
    "        \"Accuracy Scores\": [LRScore, RFScore, DTreeScore, XGBScore, GBScore, SVRScore, KNNScore],\n",
    "        \"MSE\": [Linear_MSE,RF_MSE,DTree_MSE,XGB_MSE,GB_MSE,SVR_MSE,KNN_MSE]\n",
    "    }\n",
    ")\n",
    "models.sort_values(by='Accuracy Scores', ascending=False).reset_index(drop=True)"
   ]
  },
  {
   "cell_type": "code",
   "execution_count": 203,
   "id": "096c7372",
   "metadata": {},
   "outputs": [
    {
     "data": {
      "text/html": [
       "<div>\n",
       "<style scoped>\n",
       "    .dataframe tbody tr th:only-of-type {\n",
       "        vertical-align: middle;\n",
       "    }\n",
       "\n",
       "    .dataframe tbody tr th {\n",
       "        vertical-align: top;\n",
       "    }\n",
       "\n",
       "    .dataframe thead th {\n",
       "        text-align: right;\n",
       "    }\n",
       "</style>\n",
       "<table border=\"1\" class=\"dataframe\">\n",
       "  <thead>\n",
       "    <tr style=\"text-align: right;\">\n",
       "      <th></th>\n",
       "      <th>Year</th>\n",
       "      <th>Votes</th>\n",
       "      <th>Duration</th>\n",
       "      <th>Genre_avg_rating</th>\n",
       "      <th>Director_avg_rating</th>\n",
       "      <th>Actor1_avg_rating</th>\n",
       "      <th>Actor2_avg_rating</th>\n",
       "      <th>Actor3_avg_rating</th>\n",
       "    </tr>\n",
       "  </thead>\n",
       "  <tbody>\n",
       "    <tr>\n",
       "      <th>1</th>\n",
       "      <td>2019</td>\n",
       "      <td>8</td>\n",
       "      <td>109</td>\n",
       "      <td>6.431986</td>\n",
       "      <td>7.000000</td>\n",
       "      <td>6.850000</td>\n",
       "      <td>7.000000</td>\n",
       "      <td>7.000000</td>\n",
       "    </tr>\n",
       "    <tr>\n",
       "      <th>3</th>\n",
       "      <td>2019</td>\n",
       "      <td>35</td>\n",
       "      <td>110</td>\n",
       "      <td>5.716822</td>\n",
       "      <td>4.400000</td>\n",
       "      <td>5.420000</td>\n",
       "      <td>4.400000</td>\n",
       "      <td>4.450000</td>\n",
       "    </tr>\n",
       "    <tr>\n",
       "      <th>5</th>\n",
       "      <td>1997</td>\n",
       "      <td>827</td>\n",
       "      <td>147</td>\n",
       "      <td>6.242222</td>\n",
       "      <td>5.313333</td>\n",
       "      <td>4.788889</td>\n",
       "      <td>5.786667</td>\n",
       "      <td>5.872727</td>\n",
       "    </tr>\n",
       "    <tr>\n",
       "      <th>6</th>\n",
       "      <td>2005</td>\n",
       "      <td>1086</td>\n",
       "      <td>142</td>\n",
       "      <td>6.820000</td>\n",
       "      <td>7.383333</td>\n",
       "      <td>5.435000</td>\n",
       "      <td>6.933333</td>\n",
       "      <td>6.500000</td>\n",
       "    </tr>\n",
       "    <tr>\n",
       "      <th>8</th>\n",
       "      <td>2012</td>\n",
       "      <td>326</td>\n",
       "      <td>82</td>\n",
       "      <td>5.477778</td>\n",
       "      <td>5.600000</td>\n",
       "      <td>5.600000</td>\n",
       "      <td>5.883333</td>\n",
       "      <td>5.600000</td>\n",
       "    </tr>\n",
       "  </tbody>\n",
       "</table>\n",
       "</div>"
      ],
      "text/plain": [
       "   Year  Votes  Duration  Genre_avg_rating  Director_avg_rating  \\\n",
       "1  2019      8       109          6.431986             7.000000   \n",
       "3  2019     35       110          5.716822             4.400000   \n",
       "5  1997    827       147          6.242222             5.313333   \n",
       "6  2005   1086       142          6.820000             7.383333   \n",
       "8  2012    326        82          5.477778             5.600000   \n",
       "\n",
       "   Actor1_avg_rating  Actor2_avg_rating  Actor3_avg_rating  \n",
       "1           6.850000           7.000000           7.000000  \n",
       "3           5.420000           4.400000           4.450000  \n",
       "5           4.788889           5.786667           5.872727  \n",
       "6           5.435000           6.933333           6.500000  \n",
       "8           5.600000           5.883333           5.600000  "
      ]
     },
     "execution_count": 203,
     "metadata": {},
     "output_type": "execute_result"
    }
   ],
   "source": [
    "X.head()"
   ]
  },
  {
   "cell_type": "code",
   "execution_count": 206,
   "id": "19c2c740",
   "metadata": {},
   "outputs": [
    {
     "name": "stdout",
     "output_type": "stream",
     "text": [
      "Enter the Year: 2019\n",
      "Enter the number of Votes: 35\n",
      "Enter the Duration in minutes: 110\n",
      "Enter the Average Rating of Genre: 5.729\n",
      "Enter the Average Rating of Director: 4.400\n",
      "Enter the Average Rating of Actor1: 5.250\n",
      "Enter the Average Rating of Actor2: 4.40\n",
      "Enter the Average Rating of Actor3: 4.46\n"
     ]
    }
   ],
   "source": [
    "Year = int(input('Enter the Year: '))\n",
    "Votes = int(input('Enter the number of Votes: '))\n",
    "Duration = int(input('Enter the Duration in minutes: '))\n",
    "Genre_avg_rating = float(input('Enter the Average Rating of Genre: '))\n",
    "Director_avg_rating = float(input('Enter the Average Rating of Director: '))\n",
    "Actor1_avg_rating = float(input('Enter the Average Rating of Actor1: '))\n",
    "Actor2_avg_rating = float(input('Enter the Average Rating of Actor2: '))\n",
    "Actor3_avg_rating = float(input('Enter the Average Rating of Actor3: '))\n",
    "\n",
    "# Generate unseen data accordingly with inputs\n",
    "input_list = [Year, Votes, Duration, Genre_avg_rating, Director_avg_rating, Actor1_avg_rating, Actor2_avg_rating, \n",
    "              Actor3_avg_rating]"
   ]
  },
  {
   "cell_type": "code",
   "execution_count": 208,
   "id": "223687fd",
   "metadata": {},
   "outputs": [
    {
     "name": "stdout",
     "output_type": "stream",
     "text": [
      "Predicted Rating: 4.4\n"
     ]
    }
   ],
   "source": [
    "feature_names = X_train.columns \n",
    "input_df = pd.DataFrame([input_list], columns=feature_names)\n",
    "predicted_rating = RF.predict(input_df)\n",
    "\n",
    "print(\"Predicted Rating:\", round(predicted_rating[0], 1))"
   ]
  },
  {
   "cell_type": "code",
   "execution_count": null,
   "id": "7ac99f10",
   "metadata": {},
   "outputs": [],
   "source": []
  }
 ],
 "metadata": {
  "kernelspec": {
   "display_name": "Python 3 (ipykernel)",
   "language": "python",
   "name": "python3"
  },
  "language_info": {
   "codemirror_mode": {
    "name": "ipython",
    "version": 3
   },
   "file_extension": ".py",
   "mimetype": "text/x-python",
   "name": "python",
   "nbconvert_exporter": "python",
   "pygments_lexer": "ipython3",
   "version": "3.11.5"
  }
 },
 "nbformat": 4,
 "nbformat_minor": 5
}
